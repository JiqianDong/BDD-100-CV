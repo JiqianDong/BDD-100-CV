{
 "cells": [
  {
   "cell_type": "code",
   "execution_count": 20,
   "metadata": {},
   "outputs": [],
   "source": [
    "import json\n",
    "import numpy as np\n",
    "import pandas as pd"
   ]
  },
  {
   "cell_type": "code",
   "execution_count": 21,
   "metadata": {},
   "outputs": [
    {
     "output_type": "error",
     "ename": "FileNotFoundError",
     "evalue": "[Errno 2] No such file or directory: 'train_25k_images_actions.json'",
     "traceback": [
      "\u001b[0;31m---------------------------------------------------------------------------\u001b[0m",
      "\u001b[0;31mFileNotFoundError\u001b[0m                         Traceback (most recent call last)",
      "\u001b[0;32m<ipython-input-21-6db170ba3f12>\u001b[0m in \u001b[0;36m<module>\u001b[0;34m\u001b[0m\n\u001b[0;32m----> 1\u001b[0;31m \u001b[0mactions_raw\u001b[0m \u001b[0;34m=\u001b[0m \u001b[0mjson\u001b[0m\u001b[0;34m.\u001b[0m\u001b[0mload\u001b[0m\u001b[0;34m(\u001b[0m\u001b[0mopen\u001b[0m\u001b[0;34m(\u001b[0m\u001b[0;34m'train_25k_images_actions.json'\u001b[0m\u001b[0;34m)\u001b[0m\u001b[0;34m)\u001b[0m\u001b[0;34m\u001b[0m\u001b[0;34m\u001b[0m\u001b[0m\n\u001b[0m\u001b[1;32m      2\u001b[0m \u001b[0mreasons_raw\u001b[0m \u001b[0;34m=\u001b[0m \u001b[0mjson\u001b[0m\u001b[0;34m.\u001b[0m\u001b[0mload\u001b[0m\u001b[0;34m(\u001b[0m\u001b[0mopen\u001b[0m\u001b[0;34m(\u001b[0m\u001b[0;34m'train_25k_images_reasons.json'\u001b[0m\u001b[0;34m)\u001b[0m\u001b[0;34m)\u001b[0m\u001b[0;34m\u001b[0m\u001b[0;34m\u001b[0m\u001b[0m\n",
      "\u001b[0;31mFileNotFoundError\u001b[0m: [Errno 2] No such file or directory: 'train_25k_images_actions.json'"
     ]
    }
   ],
   "source": [
    "actions_raw = json.load(open('train_25k_images_actions.json'))\n",
    "reasons_raw = json.load(open('train_25k_images_reasons.json'))"
   ]
  },
  {
   "cell_type": "code",
   "execution_count": null,
   "metadata": {},
   "outputs": [],
   "source": [
    "actions_raw.keys()"
   ]
  },
  {
   "cell_type": "code",
   "execution_count": null,
   "metadata": {},
   "outputs": [],
   "source": [
    "# reasons_raw"
   ]
  },
  {
   "cell_type": "code",
   "execution_count": null,
   "metadata": {},
   "outputs": [],
   "source": [
    "images = pd.DataFrame(actions_raw['images'])\n",
    "images.head(3)"
   ]
  },
  {
   "cell_type": "code",
   "execution_count": null,
   "metadata": {},
   "outputs": [],
   "source": []
  },
  {
   "cell_type": "code",
   "execution_count": null,
   "metadata": {},
   "outputs": [],
   "source": [
    "reasons = pd.DataFrame(reasons_raw)\n",
    "reasons.head(3)"
   ]
  },
  {
   "cell_type": "code",
   "execution_count": null,
   "metadata": {},
   "outputs": [],
   "source": [
    "reasons.dtypes"
   ]
  },
  {
   "cell_type": "code",
   "execution_count": null,
   "metadata": {},
   "outputs": [],
   "source": [
    "actions = pd.DataFrame(actions_raw['annotations'])\n",
    "actions.head(3)"
   ]
  },
  {
   "cell_type": "code",
   "execution_count": null,
   "metadata": {},
   "outputs": [],
   "source": [
    "t1 = pd.merge(images,reasons,on='file_name',how='inner')\n",
    "t1.head(3)"
   ]
  },
  {
   "cell_type": "code",
   "execution_count": null,
   "metadata": {},
   "outputs": [],
   "source": [
    "final = pd.merge(t1,actions,on='id',how='inner')\n",
    "final.head()"
   ]
  },
  {
   "cell_type": "code",
   "execution_count": null,
   "metadata": {},
   "outputs": [],
   "source": [
    "# def filter_func(row):\n",
    "#     if (len(row['category'])==4) or (row['category'][4]==0):\n",
    "#         return True\n",
    "#     else:\n",
    "#         return False\n",
    "    \n",
    "# final.apply(filter_func,axis=1).sum()"
   ]
  },
  {
   "cell_type": "code",
   "execution_count": null,
   "metadata": {},
   "outputs": [],
   "source": [
    "f = lambda x: x[:4] if (len(x)==4) or (x[4]==0) else None\n",
    "\n",
    "final['category'] = final['category'].apply(f)\n",
    "\n",
    "final.dropna(inplace=True)"
   ]
  },
  {
   "cell_type": "code",
   "execution_count": null,
   "metadata": {},
   "outputs": [],
   "source": [
    "final"
   ]
  },
  {
   "cell_type": "code",
   "execution_count": null,
   "metadata": {},
   "outputs": [],
   "source": [
    "mode = 'test'\n",
    "with open('%s_25k_images_actions.json'%mode) as f:\n",
    "    actions_raw = json.load(f)\n",
    "    \n",
    "mode = 'test'\n",
    "with open('%s_25k_images_reasons.json'%mode) as f:\n",
    "    reasons_raw = json.load(f)\n",
    "\n",
    "images = pd.DataFrame(actions_raw['images'])\n",
    "\n",
    "reasons = pd.DataFrame(reasons_raw)\n",
    "pd.merge(images,reasons,on='file_name',how='inner')"
   ]
  },
  {
   "cell_type": "code",
   "execution_count": null,
   "metadata": {},
   "outputs": [],
   "source": [
    "reasons['file_name'].sort_values()"
   ]
  },
  {
   "cell_type": "code",
   "execution_count": null,
   "metadata": {},
   "outputs": [],
   "source": [
    "images['file_name'].sort_values()"
   ]
  },
  {
   "cell_type": "code",
   "execution_count": null,
   "metadata": {},
   "outputs": [],
   "source": [
    "reasons"
   ]
  },
  {
   "cell_type": "code",
   "execution_count": null,
   "metadata": {},
   "outputs": [],
   "source": []
  },
  {
   "cell_type": "markdown",
   "metadata": {},
   "source": [
    "## Streamlized"
   ]
  },
  {
   "cell_type": "code",
   "execution_count": 1,
   "metadata": {},
   "outputs": [
    {
     "output_type": "stream",
     "name": "stdout",
     "text": [
      "2259\n",
      "16028\n",
      "4548\n"
     ]
    }
   ],
   "source": [
    "import json\n",
    "import numpy as np\n",
    "import pandas as pd\n",
    "import matplotlib.pyplot as plt\n",
    "\n",
    "label_home = './data/bdd_oia/lastframe/labels/'\n",
    "def cleaning(mode='train'):\n",
    "    with open(label_home+'%s_25k_images_actions.json'%mode) as f:\n",
    "        actions_raw = json.load(f)\n",
    "    with open(label_home+'%s_25k_images_reasons.json'%mode) as f:\n",
    "        reasons_raw = json.load(f)\n",
    "\n",
    "    images = pd.DataFrame(actions_raw['images'])\n",
    "\n",
    "    reasons = pd.DataFrame(reasons_raw)\n",
    "\n",
    "    actions = pd.DataFrame(actions_raw['annotations'])\n",
    "    \n",
    "    t1 = pd.merge(images,reasons,on='file_name',how='inner')\n",
    "    final = pd.merge(t1,actions,on='id',how='inner')\n",
    "    \n",
    "    f = lambda x: x[:4] if (len(x)==4) or (x[4]==0) else None\n",
    "\n",
    "    final['category'] = final['category'].apply(f)\n",
    "\n",
    "    final.dropna(inplace=True)\n",
    "    \n",
    "    print(len(final))\n",
    "    \n",
    "    final.rename(columns={'category':'action'},inplace=True)\n",
    "\n",
    "    return final\n",
    "\n",
    "val_set = cleaning('val')\n",
    "train_set = cleaning('train')\n",
    "test_set = cleaning('test')\n",
    "\n",
    "# train_set.to_csv(label_home + 'train_labels.csv',index=False)\n",
    "# val_set.to_csv(label_home + 'val_labels.csv',index=False)\n",
    "# test_set.to_csv(label_home + 'test_labels.csv',index=False)"
   ]
  },
  {
   "cell_type": "code",
   "execution_count": 2,
   "metadata": {},
   "outputs": [],
   "source": [
    "with open(label_home+'readme.txt') as f:\n",
    "    txt = f.readlines()\n",
    "    \n",
    "all_reasons = np.array([lab.strip()[:-1] for lab in txt[6:-1]])\n",
    "all_actions = np.array(['move forward','stop/slow down','turn left','turn right'])"
   ]
  },
  {
   "cell_type": "code",
   "execution_count": 3,
   "metadata": {},
   "outputs": [],
   "source": [
    "reason_map = dict(zip(all_reasons,range(len(all_reasons))))\n",
    "action_map = dict(zip(all_actions,range(len(all_actions))))"
   ]
  },
  {
   "cell_type": "code",
   "execution_count": 4,
   "metadata": {},
   "outputs": [],
   "source": [
    "def select_reason(row,ind):\n",
    "    if row['reason'][reason_ind] == 1:\n",
    "        return True\n",
    "    return False\n",
    "f1 = lambda row,ind: True if row['reason'][reason_ind] == 1 else False\n",
    "\n",
    "def select_action(row,ind):\n",
    "    if row['action'][reason_ind] == 1:\n",
    "        return True\n",
    "    return False\n",
    "\n",
    "f2 = lambda row,ind: True if row['action'][action_ind] == 1 else False"
   ]
  },
  {
   "cell_type": "code",
   "execution_count": null,
   "metadata": {},
   "outputs": [],
   "source": []
  },
  {
   "cell_type": "code",
   "execution_count": null,
   "metadata": {},
   "outputs": [],
   "source": []
  },
  {
   "cell_type": "code",
   "execution_count": 5,
   "metadata": {},
   "outputs": [],
   "source": [
    "# select out the reasons with traffic lights issues\n",
    "\n",
    "def clean_and_combine(sets,item,ind_list):\n",
    "\n",
    "    f = lambda row,ind: True if row[item][ind] == 1 else False\n",
    "\n",
    "    return_df = None\n",
    "    for s in sets:\n",
    "        for i in ind_list:\n",
    "            return_df = pd.concat([return_df, s[s.apply(f,axis=1,ind=i)]])\n",
    "    return return_df\n",
    "\n",
    "reason_ind_list = [2, 7, 11, 14]\n",
    "sets = [train_set, val_set, test_set]\n",
    "traffic_light_dataset = clean_and_combine(sets,'reason',reason_ind_list)"
   ]
  },
  {
   "cell_type": "code",
   "execution_count": 6,
   "metadata": {},
   "outputs": [
    {
     "output_type": "execute_result",
     "data": {
      "text/plain": [
       "        id                file_name  width height  \\\n",
       "0        0  9af44b54-7aae6c7d_3.jpg    720   1280   \n",
       "3        3  a6a897ca-9b69c277_1.jpg    720   1280   \n",
       "8        8  b1f4491b-9958bd99_3.jpg    720   1280   \n",
       "12      12  795378f0-8783f2d3_1.jpg    720   1280   \n",
       "14      14  895f8207-befdd581_1.jpg    720   1280   \n",
       "...    ...                      ...    ...    ...   \n",
       "4486  4486    eb01d067-b52cd095.jpg    720   1280   \n",
       "4519  4519    f21f7d33-b59d0bf8.jpg    720   1280   \n",
       "4531  4531    f4938d8e-6153fdae.jpg    720   1280   \n",
       "4552  4552    fab2ccdf-e5b353c8.jpg    720   1280   \n",
       "4553  4553    fadc2f2f-d140fbad.jpg    720   1280   \n",
       "\n",
       "                                                 reason        action  \n",
       "0     [0, 0, 1, 0, 0, 0, 0, 0, 0, 0, 0, 0, 0, 0, 0, ...  [1, 0, 1, 1]  \n",
       "3     [1, 0, 1, 0, 0, 0, 0, 0, 0, 0, 0, 0, 0, 0, 0, ...  [1, 0, 1, 1]  \n",
       "8     [1, 0, 1, 0, 0, 0, 0, 0, 0, 0, 0, 0, 0, 0, 0, ...  [1, 0, 1, 0]  \n",
       "12    [0, 0, 1, 0, 0, 0, 0, 0, 0, 0, 0, 0, 0, 0, 0, ...  [1, 0, 0, 1]  \n",
       "14    [0, 0, 1, 1, 0, 0, 0, 0, 0, 0, 0, 0, 0, 0, 0, ...  [1, 1, 0, 1]  \n",
       "...                                                 ...           ...  \n",
       "4486  [0, 0, 0, 0, 0, 0, 0, 1, 0, 0, 0, 0, 0, 1, 1, ...  [0, 1, 0, 1]  \n",
       "4519  [0, 0, 0, 0, 0, 0, 0, 1, 0, 0, 0, 0, 0, 1, 1, ...  [0, 1, 0, 1]  \n",
       "4531  [0, 1, 0, 0, 0, 0, 0, 0, 0, 0, 0, 0, 0, 1, 1, ...  [1, 0, 0, 1]  \n",
       "4552  [0, 1, 0, 0, 0, 0, 0, 0, 0, 0, 0, 0, 0, 0, 1, ...  [1, 0, 0, 1]  \n",
       "4553  [0, 0, 0, 0, 0, 0, 0, 0, 0, 0, 0, 0, 0, 1, 1, ...  [0, 0, 0, 1]  \n",
       "\n",
       "[10749 rows x 6 columns]"
      ],
      "text/html": "<div>\n<style scoped>\n    .dataframe tbody tr th:only-of-type {\n        vertical-align: middle;\n    }\n\n    .dataframe tbody tr th {\n        vertical-align: top;\n    }\n\n    .dataframe thead th {\n        text-align: right;\n    }\n</style>\n<table border=\"1\" class=\"dataframe\">\n  <thead>\n    <tr style=\"text-align: right;\">\n      <th></th>\n      <th>id</th>\n      <th>file_name</th>\n      <th>width</th>\n      <th>height</th>\n      <th>reason</th>\n      <th>action</th>\n    </tr>\n  </thead>\n  <tbody>\n    <tr>\n      <th>0</th>\n      <td>0</td>\n      <td>9af44b54-7aae6c7d_3.jpg</td>\n      <td>720</td>\n      <td>1280</td>\n      <td>[0, 0, 1, 0, 0, 0, 0, 0, 0, 0, 0, 0, 0, 0, 0, ...</td>\n      <td>[1, 0, 1, 1]</td>\n    </tr>\n    <tr>\n      <th>3</th>\n      <td>3</td>\n      <td>a6a897ca-9b69c277_1.jpg</td>\n      <td>720</td>\n      <td>1280</td>\n      <td>[1, 0, 1, 0, 0, 0, 0, 0, 0, 0, 0, 0, 0, 0, 0, ...</td>\n      <td>[1, 0, 1, 1]</td>\n    </tr>\n    <tr>\n      <th>8</th>\n      <td>8</td>\n      <td>b1f4491b-9958bd99_3.jpg</td>\n      <td>720</td>\n      <td>1280</td>\n      <td>[1, 0, 1, 0, 0, 0, 0, 0, 0, 0, 0, 0, 0, 0, 0, ...</td>\n      <td>[1, 0, 1, 0]</td>\n    </tr>\n    <tr>\n      <th>12</th>\n      <td>12</td>\n      <td>795378f0-8783f2d3_1.jpg</td>\n      <td>720</td>\n      <td>1280</td>\n      <td>[0, 0, 1, 0, 0, 0, 0, 0, 0, 0, 0, 0, 0, 0, 0, ...</td>\n      <td>[1, 0, 0, 1]</td>\n    </tr>\n    <tr>\n      <th>14</th>\n      <td>14</td>\n      <td>895f8207-befdd581_1.jpg</td>\n      <td>720</td>\n      <td>1280</td>\n      <td>[0, 0, 1, 1, 0, 0, 0, 0, 0, 0, 0, 0, 0, 0, 0, ...</td>\n      <td>[1, 1, 0, 1]</td>\n    </tr>\n    <tr>\n      <th>...</th>\n      <td>...</td>\n      <td>...</td>\n      <td>...</td>\n      <td>...</td>\n      <td>...</td>\n      <td>...</td>\n    </tr>\n    <tr>\n      <th>4486</th>\n      <td>4486</td>\n      <td>eb01d067-b52cd095.jpg</td>\n      <td>720</td>\n      <td>1280</td>\n      <td>[0, 0, 0, 0, 0, 0, 0, 1, 0, 0, 0, 0, 0, 1, 1, ...</td>\n      <td>[0, 1, 0, 1]</td>\n    </tr>\n    <tr>\n      <th>4519</th>\n      <td>4519</td>\n      <td>f21f7d33-b59d0bf8.jpg</td>\n      <td>720</td>\n      <td>1280</td>\n      <td>[0, 0, 0, 0, 0, 0, 0, 1, 0, 0, 0, 0, 0, 1, 1, ...</td>\n      <td>[0, 1, 0, 1]</td>\n    </tr>\n    <tr>\n      <th>4531</th>\n      <td>4531</td>\n      <td>f4938d8e-6153fdae.jpg</td>\n      <td>720</td>\n      <td>1280</td>\n      <td>[0, 1, 0, 0, 0, 0, 0, 0, 0, 0, 0, 0, 0, 1, 1, ...</td>\n      <td>[1, 0, 0, 1]</td>\n    </tr>\n    <tr>\n      <th>4552</th>\n      <td>4552</td>\n      <td>fab2ccdf-e5b353c8.jpg</td>\n      <td>720</td>\n      <td>1280</td>\n      <td>[0, 1, 0, 0, 0, 0, 0, 0, 0, 0, 0, 0, 0, 0, 1, ...</td>\n      <td>[1, 0, 0, 1]</td>\n    </tr>\n    <tr>\n      <th>4553</th>\n      <td>4553</td>\n      <td>fadc2f2f-d140fbad.jpg</td>\n      <td>720</td>\n      <td>1280</td>\n      <td>[0, 0, 0, 0, 0, 0, 0, 0, 0, 0, 0, 0, 0, 1, 1, ...</td>\n      <td>[0, 0, 0, 1]</td>\n    </tr>\n  </tbody>\n</table>\n<p>10749 rows × 6 columns</p>\n</div>"
     },
     "metadata": {},
     "execution_count": 6
    }
   ],
   "source": [
    "traffic_light_dataset"
   ]
  },
  {
   "source": [
    "## No dataset"
   ],
   "cell_type": "markdown",
   "metadata": {}
  },
  {
   "cell_type": "code",
   "execution_count": 15,
   "metadata": {},
   "outputs": [],
   "source": [
    "no_dataset = clean_and_combine(sets,'reason',range(15,21))"
   ]
  },
  {
   "cell_type": "code",
   "execution_count": 16,
   "metadata": {},
   "outputs": [],
   "source": [
    "no_dataset['reason'] = no_dataset['reason'].apply(lambda x: np.array(x[-6:]))\n",
    "\n",
    "reason = np.array(list(no_dataset['reason']))\n"
   ]
  },
  {
   "cell_type": "code",
   "execution_count": 17,
   "metadata": {},
   "outputs": [
    {
     "output_type": "execute_result",
     "data": {
      "text/plain": [
       "        id                file_name  width height              reason  \\\n",
       "2        2  954149ed-2102c512_3.jpg    720   1280  [1, 0, 1, 0, 0, 0]   \n",
       "9        9  08c272df-0638c5ca_1.jpg    720   1280  [1, 0, 0, 0, 1, 0]   \n",
       "16      16  0738f42e-fe0d895e_3.jpg    720   1280  [1, 0, 0, 0, 0, 0]   \n",
       "20      20  57e171f1-00d42305_1.jpg    720   1280  [1, 0, 0, 0, 1, 0]   \n",
       "24      24  7cc97a0b-203efcdd_1.jpg    720   1280  [1, 0, 0, 0, 0, 0]   \n",
       "...    ...                      ...    ...    ...                 ...   \n",
       "4504  4504    efae0c14-d7c484be.jpg    720   1280  [0, 0, 1, 1, 0, 1]   \n",
       "4505  4505    efc83579-e8863f07.jpg    720   1280  [0, 0, 0, 0, 1, 1]   \n",
       "4515  4515    f1cd3b02-b732250b.jpg    720   1280  [0, 0, 1, 0, 0, 1]   \n",
       "4534  4534    f6565aa0-b60cedfa.jpg    720   1280  [0, 0, 1, 0, 1, 1]   \n",
       "4561  4561    fcddae71-5b9a917d.jpg    720   1280  [1, 0, 0, 0, 0, 1]   \n",
       "\n",
       "            action  \n",
       "2     [1, 0, 0, 1]  \n",
       "9     [0, 1, 0, 0]  \n",
       "16    [1, 0, 0, 1]  \n",
       "20    [0, 1, 0, 0]  \n",
       "24    [1, 0, 0, 1]  \n",
       "...            ...  \n",
       "4504  [0, 1, 0, 0]  \n",
       "4505  [0, 1, 1, 0]  \n",
       "4515  [1, 0, 0, 0]  \n",
       "4534  [1, 0, 0, 0]  \n",
       "4561  [1, 0, 0, 0]  \n",
       "\n",
       "[24921 rows x 6 columns]"
      ],
      "text/html": "<div>\n<style scoped>\n    .dataframe tbody tr th:only-of-type {\n        vertical-align: middle;\n    }\n\n    .dataframe tbody tr th {\n        vertical-align: top;\n    }\n\n    .dataframe thead th {\n        text-align: right;\n    }\n</style>\n<table border=\"1\" class=\"dataframe\">\n  <thead>\n    <tr style=\"text-align: right;\">\n      <th></th>\n      <th>id</th>\n      <th>file_name</th>\n      <th>width</th>\n      <th>height</th>\n      <th>reason</th>\n      <th>action</th>\n    </tr>\n  </thead>\n  <tbody>\n    <tr>\n      <th>2</th>\n      <td>2</td>\n      <td>954149ed-2102c512_3.jpg</td>\n      <td>720</td>\n      <td>1280</td>\n      <td>[1, 0, 1, 0, 0, 0]</td>\n      <td>[1, 0, 0, 1]</td>\n    </tr>\n    <tr>\n      <th>9</th>\n      <td>9</td>\n      <td>08c272df-0638c5ca_1.jpg</td>\n      <td>720</td>\n      <td>1280</td>\n      <td>[1, 0, 0, 0, 1, 0]</td>\n      <td>[0, 1, 0, 0]</td>\n    </tr>\n    <tr>\n      <th>16</th>\n      <td>16</td>\n      <td>0738f42e-fe0d895e_3.jpg</td>\n      <td>720</td>\n      <td>1280</td>\n      <td>[1, 0, 0, 0, 0, 0]</td>\n      <td>[1, 0, 0, 1]</td>\n    </tr>\n    <tr>\n      <th>20</th>\n      <td>20</td>\n      <td>57e171f1-00d42305_1.jpg</td>\n      <td>720</td>\n      <td>1280</td>\n      <td>[1, 0, 0, 0, 1, 0]</td>\n      <td>[0, 1, 0, 0]</td>\n    </tr>\n    <tr>\n      <th>24</th>\n      <td>24</td>\n      <td>7cc97a0b-203efcdd_1.jpg</td>\n      <td>720</td>\n      <td>1280</td>\n      <td>[1, 0, 0, 0, 0, 0]</td>\n      <td>[1, 0, 0, 1]</td>\n    </tr>\n    <tr>\n      <th>...</th>\n      <td>...</td>\n      <td>...</td>\n      <td>...</td>\n      <td>...</td>\n      <td>...</td>\n      <td>...</td>\n    </tr>\n    <tr>\n      <th>4504</th>\n      <td>4504</td>\n      <td>efae0c14-d7c484be.jpg</td>\n      <td>720</td>\n      <td>1280</td>\n      <td>[0, 0, 1, 1, 0, 1]</td>\n      <td>[0, 1, 0, 0]</td>\n    </tr>\n    <tr>\n      <th>4505</th>\n      <td>4505</td>\n      <td>efc83579-e8863f07.jpg</td>\n      <td>720</td>\n      <td>1280</td>\n      <td>[0, 0, 0, 0, 1, 1]</td>\n      <td>[0, 1, 1, 0]</td>\n    </tr>\n    <tr>\n      <th>4515</th>\n      <td>4515</td>\n      <td>f1cd3b02-b732250b.jpg</td>\n      <td>720</td>\n      <td>1280</td>\n      <td>[0, 0, 1, 0, 0, 1]</td>\n      <td>[1, 0, 0, 0]</td>\n    </tr>\n    <tr>\n      <th>4534</th>\n      <td>4534</td>\n      <td>f6565aa0-b60cedfa.jpg</td>\n      <td>720</td>\n      <td>1280</td>\n      <td>[0, 0, 1, 0, 1, 1]</td>\n      <td>[1, 0, 0, 0]</td>\n    </tr>\n    <tr>\n      <th>4561</th>\n      <td>4561</td>\n      <td>fcddae71-5b9a917d.jpg</td>\n      <td>720</td>\n      <td>1280</td>\n      <td>[1, 0, 0, 0, 0, 1]</td>\n      <td>[1, 0, 0, 0]</td>\n    </tr>\n  </tbody>\n</table>\n<p>24921 rows × 6 columns</p>\n</div>"
     },
     "metadata": {},
     "execution_count": 17
    }
   ],
   "source": [
    "no_dataset"
   ]
  },
  {
   "cell_type": "code",
   "execution_count": 18,
   "metadata": {},
   "outputs": [],
   "source": [
    "# no_dataset = no_dataset[['file_name','reason','action']]\n",
    "# no_dataset.to_csv(label_home+'no_dataset.csv',index=False)"
   ]
  },
  {
   "cell_type": "code",
   "execution_count": null,
   "metadata": {},
   "outputs": [],
   "source": []
  },
  {
   "cell_type": "code",
   "execution_count": 28,
   "metadata": {},
   "outputs": [
    {
     "output_type": "execute_result",
     "data": {
      "text/plain": [
       "array(['obstacles on the leftlane', 'no lane on the left',\n",
       "       'solidline on the left', 'obstacles on the rightlane',\n",
       "       'no lane on the right', 'solidline on the right'], dtype='<U26')"
      ]
     },
     "metadata": {},
     "execution_count": 28
    }
   ],
   "source": [
    "# create language labels\n",
    "reason_list = np.array([r.split('-')[-1].strip() for r in all_reasons[-6:]])\n",
    "reason_list"
   ]
  },
  {
   "cell_type": "code",
   "execution_count": 30,
   "metadata": {},
   "outputs": [],
   "source": [
    "import nltk\n",
    "# nltk.download('punkt')\n",
    "word_list = nltk.word_tokenize(';'.join(reason_list))\n",
    "unique_word_list = np.unique(word_list+['SOS','EOS'])\n",
    "word_to_ind = dict(zip(unique_word_list,np.arange(len(unique_word_list))))\n",
    "ind_to_word = dict(zip(np.arange(len(unique_word_list)),unique_word_list))"
   ]
  },
  {
   "cell_type": "code",
   "execution_count": 49,
   "metadata": {},
   "outputs": [
    {
     "output_type": "execute_result",
     "data": {
      "text/plain": [
       "({';': 0,\n",
       "  'EOS': 1,\n",
       "  'SOS': 2,\n",
       "  'lane': 3,\n",
       "  'left': 4,\n",
       "  'leftlane': 5,\n",
       "  'no': 6,\n",
       "  'obstacles': 7,\n",
       "  'on': 8,\n",
       "  'right': 9,\n",
       "  'rightlane': 10,\n",
       "  'solidline': 11,\n",
       "  'the': 12},\n",
       " {0: ';',\n",
       "  1: 'EOS',\n",
       "  2: 'SOS',\n",
       "  3: 'lane',\n",
       "  4: 'left',\n",
       "  5: 'leftlane',\n",
       "  6: 'no',\n",
       "  7: 'obstacles',\n",
       "  8: 'on',\n",
       "  9: 'right',\n",
       "  10: 'rightlane',\n",
       "  11: 'solidline',\n",
       "  12: 'the'})"
      ]
     },
     "metadata": {},
     "execution_count": 49
    }
   ],
   "source": [
    "import pickle \n",
    "\n",
    "with open(label_home+\"word_to_ind.pkl\",'wb') as f:\n",
    "    pickle.dump(word_to_ind,f)\n",
    "\n",
    "with open(label_home+\"ind_to_word.pkl\",'wb') as f:\n",
    "    pickle.dump(ind_to_word,f)\n",
    "\n",
    "word_to_ind,ind_to_word"
   ]
  },
  {
   "cell_type": "code",
   "execution_count": 50,
   "metadata": {},
   "outputs": [
    {
     "output_type": "execute_result",
     "data": {
      "text/plain": [
       "{';': 0,\n",
       " 'EOS': 1,\n",
       " 'SOS': 2,\n",
       " 'lane': 3,\n",
       " 'left': 4,\n",
       " 'leftlane': 5,\n",
       " 'no': 6,\n",
       " 'obstacles': 7,\n",
       " 'on': 8,\n",
       " 'right': 9,\n",
       " 'rightlane': 10,\n",
       " 'solidline': 11,\n",
       " 'the': 12}"
      ]
     },
     "metadata": {},
     "execution_count": 50
    }
   ],
   "source": [
    "with open(label_home+'word_to_ind.pkl','rb') as f:\n",
    "    tst = pickle.load(f)\n",
    "tst\n"
   ]
  },
  {
   "cell_type": "code",
   "execution_count": 39,
   "metadata": {},
   "outputs": [
    {
     "output_type": "execute_result",
     "data": {
      "text/plain": [
       "[[7, 8, 12, 5],\n",
       " [6, 3, 8, 12, 4],\n",
       " [11, 8, 12, 4],\n",
       " [7, 8, 12, 10],\n",
       " [6, 3, 8, 12, 9],\n",
       " [11, 8, 12, 9]]"
      ]
     },
     "metadata": {},
     "execution_count": 39
    }
   ],
   "source": [
    "reason_ind_list = []\n",
    "for r in reason_list:\n",
    "    tmp = []\n",
    "    for w in r.split(' '):\n",
    "        tmp.append(word_to_ind[w])\n",
    "    reason_ind_list.append(tmp)   \n",
    "reason_ind_list"
   ]
  },
  {
   "cell_type": "code",
   "execution_count": 33,
   "metadata": {},
   "outputs": [],
   "source": [
    "f = lambda x: ';'.join(reason_list[x==1])\n",
    "no_dataset['reason_lang'] = no_dataset['reason'].apply(f)"
   ]
  },
  {
   "cell_type": "code",
   "execution_count": 34,
   "metadata": {},
   "outputs": [
    {
     "output_type": "execute_result",
     "data": {
      "text/plain": [
       "        id                file_name  width height              reason  \\\n",
       "2        2  954149ed-2102c512_3.jpg    720   1280  [1, 0, 1, 0, 0, 0]   \n",
       "9        9  08c272df-0638c5ca_1.jpg    720   1280  [1, 0, 0, 0, 1, 0]   \n",
       "16      16  0738f42e-fe0d895e_3.jpg    720   1280  [1, 0, 0, 0, 0, 0]   \n",
       "20      20  57e171f1-00d42305_1.jpg    720   1280  [1, 0, 0, 0, 1, 0]   \n",
       "24      24  7cc97a0b-203efcdd_1.jpg    720   1280  [1, 0, 0, 0, 0, 0]   \n",
       "...    ...                      ...    ...    ...                 ...   \n",
       "4504  4504    efae0c14-d7c484be.jpg    720   1280  [0, 0, 1, 1, 0, 1]   \n",
       "4505  4505    efc83579-e8863f07.jpg    720   1280  [0, 0, 0, 0, 1, 1]   \n",
       "4515  4515    f1cd3b02-b732250b.jpg    720   1280  [0, 0, 1, 0, 0, 1]   \n",
       "4534  4534    f6565aa0-b60cedfa.jpg    720   1280  [0, 0, 1, 0, 1, 1]   \n",
       "4561  4561    fcddae71-5b9a917d.jpg    720   1280  [1, 0, 0, 0, 0, 1]   \n",
       "\n",
       "            action                                        reason_lang  \n",
       "2     [1, 0, 0, 1]    obstacles on the leftlane;solidline on the left  \n",
       "9     [0, 1, 0, 0]     obstacles on the leftlane;no lane on the right  \n",
       "16    [1, 0, 0, 1]                          obstacles on the leftlane  \n",
       "20    [0, 1, 0, 0]     obstacles on the leftlane;no lane on the right  \n",
       "24    [1, 0, 0, 1]                          obstacles on the leftlane  \n",
       "...            ...                                                ...  \n",
       "4504  [0, 1, 0, 0]  solidline on the left;obstacles on the rightla...  \n",
       "4505  [0, 1, 1, 0]        no lane on the right;solidline on the right  \n",
       "4515  [1, 0, 0, 0]       solidline on the left;solidline on the right  \n",
       "4534  [1, 0, 0, 0]  solidline on the left;no lane on the right;sol...  \n",
       "4561  [1, 0, 0, 0]   obstacles on the leftlane;solidline on the right  \n",
       "\n",
       "[24921 rows x 7 columns]"
      ],
      "text/html": "<div>\n<style scoped>\n    .dataframe tbody tr th:only-of-type {\n        vertical-align: middle;\n    }\n\n    .dataframe tbody tr th {\n        vertical-align: top;\n    }\n\n    .dataframe thead th {\n        text-align: right;\n    }\n</style>\n<table border=\"1\" class=\"dataframe\">\n  <thead>\n    <tr style=\"text-align: right;\">\n      <th></th>\n      <th>id</th>\n      <th>file_name</th>\n      <th>width</th>\n      <th>height</th>\n      <th>reason</th>\n      <th>action</th>\n      <th>reason_lang</th>\n    </tr>\n  </thead>\n  <tbody>\n    <tr>\n      <th>2</th>\n      <td>2</td>\n      <td>954149ed-2102c512_3.jpg</td>\n      <td>720</td>\n      <td>1280</td>\n      <td>[1, 0, 1, 0, 0, 0]</td>\n      <td>[1, 0, 0, 1]</td>\n      <td>obstacles on the leftlane;solidline on the left</td>\n    </tr>\n    <tr>\n      <th>9</th>\n      <td>9</td>\n      <td>08c272df-0638c5ca_1.jpg</td>\n      <td>720</td>\n      <td>1280</td>\n      <td>[1, 0, 0, 0, 1, 0]</td>\n      <td>[0, 1, 0, 0]</td>\n      <td>obstacles on the leftlane;no lane on the right</td>\n    </tr>\n    <tr>\n      <th>16</th>\n      <td>16</td>\n      <td>0738f42e-fe0d895e_3.jpg</td>\n      <td>720</td>\n      <td>1280</td>\n      <td>[1, 0, 0, 0, 0, 0]</td>\n      <td>[1, 0, 0, 1]</td>\n      <td>obstacles on the leftlane</td>\n    </tr>\n    <tr>\n      <th>20</th>\n      <td>20</td>\n      <td>57e171f1-00d42305_1.jpg</td>\n      <td>720</td>\n      <td>1280</td>\n      <td>[1, 0, 0, 0, 1, 0]</td>\n      <td>[0, 1, 0, 0]</td>\n      <td>obstacles on the leftlane;no lane on the right</td>\n    </tr>\n    <tr>\n      <th>24</th>\n      <td>24</td>\n      <td>7cc97a0b-203efcdd_1.jpg</td>\n      <td>720</td>\n      <td>1280</td>\n      <td>[1, 0, 0, 0, 0, 0]</td>\n      <td>[1, 0, 0, 1]</td>\n      <td>obstacles on the leftlane</td>\n    </tr>\n    <tr>\n      <th>...</th>\n      <td>...</td>\n      <td>...</td>\n      <td>...</td>\n      <td>...</td>\n      <td>...</td>\n      <td>...</td>\n      <td>...</td>\n    </tr>\n    <tr>\n      <th>4504</th>\n      <td>4504</td>\n      <td>efae0c14-d7c484be.jpg</td>\n      <td>720</td>\n      <td>1280</td>\n      <td>[0, 0, 1, 1, 0, 1]</td>\n      <td>[0, 1, 0, 0]</td>\n      <td>solidline on the left;obstacles on the rightla...</td>\n    </tr>\n    <tr>\n      <th>4505</th>\n      <td>4505</td>\n      <td>efc83579-e8863f07.jpg</td>\n      <td>720</td>\n      <td>1280</td>\n      <td>[0, 0, 0, 0, 1, 1]</td>\n      <td>[0, 1, 1, 0]</td>\n      <td>no lane on the right;solidline on the right</td>\n    </tr>\n    <tr>\n      <th>4515</th>\n      <td>4515</td>\n      <td>f1cd3b02-b732250b.jpg</td>\n      <td>720</td>\n      <td>1280</td>\n      <td>[0, 0, 1, 0, 0, 1]</td>\n      <td>[1, 0, 0, 0]</td>\n      <td>solidline on the left;solidline on the right</td>\n    </tr>\n    <tr>\n      <th>4534</th>\n      <td>4534</td>\n      <td>f6565aa0-b60cedfa.jpg</td>\n      <td>720</td>\n      <td>1280</td>\n      <td>[0, 0, 1, 0, 1, 1]</td>\n      <td>[1, 0, 0, 0]</td>\n      <td>solidline on the left;no lane on the right;sol...</td>\n    </tr>\n    <tr>\n      <th>4561</th>\n      <td>4561</td>\n      <td>fcddae71-5b9a917d.jpg</td>\n      <td>720</td>\n      <td>1280</td>\n      <td>[1, 0, 0, 0, 0, 1]</td>\n      <td>[1, 0, 0, 0]</td>\n      <td>obstacles on the leftlane;solidline on the right</td>\n    </tr>\n  </tbody>\n</table>\n<p>24921 rows × 7 columns</p>\n</div>"
     },
     "metadata": {},
     "execution_count": 34
    }
   ],
   "source": [
    "no_dataset"
   ]
  },
  {
   "cell_type": "code",
   "execution_count": 44,
   "metadata": {},
   "outputs": [],
   "source": [
    "def f_reason_lang_ind(x):\n",
    "    count = 0\n",
    "    return_list = [word_to_ind['SOS']]\n",
    "    for i, r in enumerate(x):\n",
    "        if r==1:\n",
    "            if count > 0:\n",
    "                return_list.append(word_to_ind[';'])\n",
    "            return_list.extend(reason_ind_list[i])\n",
    "            count+=1\n",
    "    return_list.append(word_to_ind['EOS'])\n",
    "    return return_list\n",
    "\n",
    "no_dataset['reason_lang_ind'] = no_dataset['reason'].apply(f_reason_lang_ind)\n"
   ]
  },
  {
   "cell_type": "code",
   "execution_count": 45,
   "metadata": {},
   "outputs": [
    {
     "output_type": "execute_result",
     "data": {
      "text/plain": [
       "        id                file_name  width height              reason  \\\n",
       "2        2  954149ed-2102c512_3.jpg    720   1280  [1, 0, 1, 0, 0, 0]   \n",
       "9        9  08c272df-0638c5ca_1.jpg    720   1280  [1, 0, 0, 0, 1, 0]   \n",
       "16      16  0738f42e-fe0d895e_3.jpg    720   1280  [1, 0, 0, 0, 0, 0]   \n",
       "20      20  57e171f1-00d42305_1.jpg    720   1280  [1, 0, 0, 0, 1, 0]   \n",
       "24      24  7cc97a0b-203efcdd_1.jpg    720   1280  [1, 0, 0, 0, 0, 0]   \n",
       "...    ...                      ...    ...    ...                 ...   \n",
       "4504  4504    efae0c14-d7c484be.jpg    720   1280  [0, 0, 1, 1, 0, 1]   \n",
       "4505  4505    efc83579-e8863f07.jpg    720   1280  [0, 0, 0, 0, 1, 1]   \n",
       "4515  4515    f1cd3b02-b732250b.jpg    720   1280  [0, 0, 1, 0, 0, 1]   \n",
       "4534  4534    f6565aa0-b60cedfa.jpg    720   1280  [0, 0, 1, 0, 1, 1]   \n",
       "4561  4561    fcddae71-5b9a917d.jpg    720   1280  [1, 0, 0, 0, 0, 1]   \n",
       "\n",
       "            action                                        reason_lang  \\\n",
       "2     [1, 0, 0, 1]    obstacles on the leftlane;solidline on the left   \n",
       "9     [0, 1, 0, 0]     obstacles on the leftlane;no lane on the right   \n",
       "16    [1, 0, 0, 1]                          obstacles on the leftlane   \n",
       "20    [0, 1, 0, 0]     obstacles on the leftlane;no lane on the right   \n",
       "24    [1, 0, 0, 1]                          obstacles on the leftlane   \n",
       "...            ...                                                ...   \n",
       "4504  [0, 1, 0, 0]  solidline on the left;obstacles on the rightla...   \n",
       "4505  [0, 1, 1, 0]        no lane on the right;solidline on the right   \n",
       "4515  [1, 0, 0, 0]       solidline on the left;solidline on the right   \n",
       "4534  [1, 0, 0, 0]  solidline on the left;no lane on the right;sol...   \n",
       "4561  [1, 0, 0, 0]   obstacles on the leftlane;solidline on the right   \n",
       "\n",
       "                                        reason_lang_ind  \n",
       "2                  [2, 7, 8, 12, 5, 0, 11, 8, 12, 4, 1]  \n",
       "9                [2, 7, 8, 12, 5, 0, 6, 3, 8, 12, 9, 1]  \n",
       "16                                  [2, 7, 8, 12, 5, 1]  \n",
       "20               [2, 7, 8, 12, 5, 0, 6, 3, 8, 12, 9, 1]  \n",
       "24                                  [2, 7, 8, 12, 5, 1]  \n",
       "...                                                 ...  \n",
       "4504  [2, 11, 8, 12, 4, 0, 7, 8, 12, 10, 0, 11, 8, 1...  \n",
       "4505            [2, 6, 3, 8, 12, 9, 0, 11, 8, 12, 9, 1]  \n",
       "4515              [2, 11, 8, 12, 4, 0, 11, 8, 12, 9, 1]  \n",
       "4534  [2, 11, 8, 12, 4, 0, 6, 3, 8, 12, 9, 0, 11, 8,...  \n",
       "4561               [2, 7, 8, 12, 5, 0, 11, 8, 12, 9, 1]  \n",
       "\n",
       "[24921 rows x 8 columns]"
      ],
      "text/html": "<div>\n<style scoped>\n    .dataframe tbody tr th:only-of-type {\n        vertical-align: middle;\n    }\n\n    .dataframe tbody tr th {\n        vertical-align: top;\n    }\n\n    .dataframe thead th {\n        text-align: right;\n    }\n</style>\n<table border=\"1\" class=\"dataframe\">\n  <thead>\n    <tr style=\"text-align: right;\">\n      <th></th>\n      <th>id</th>\n      <th>file_name</th>\n      <th>width</th>\n      <th>height</th>\n      <th>reason</th>\n      <th>action</th>\n      <th>reason_lang</th>\n      <th>reason_lang_ind</th>\n    </tr>\n  </thead>\n  <tbody>\n    <tr>\n      <th>2</th>\n      <td>2</td>\n      <td>954149ed-2102c512_3.jpg</td>\n      <td>720</td>\n      <td>1280</td>\n      <td>[1, 0, 1, 0, 0, 0]</td>\n      <td>[1, 0, 0, 1]</td>\n      <td>obstacles on the leftlane;solidline on the left</td>\n      <td>[2, 7, 8, 12, 5, 0, 11, 8, 12, 4, 1]</td>\n    </tr>\n    <tr>\n      <th>9</th>\n      <td>9</td>\n      <td>08c272df-0638c5ca_1.jpg</td>\n      <td>720</td>\n      <td>1280</td>\n      <td>[1, 0, 0, 0, 1, 0]</td>\n      <td>[0, 1, 0, 0]</td>\n      <td>obstacles on the leftlane;no lane on the right</td>\n      <td>[2, 7, 8, 12, 5, 0, 6, 3, 8, 12, 9, 1]</td>\n    </tr>\n    <tr>\n      <th>16</th>\n      <td>16</td>\n      <td>0738f42e-fe0d895e_3.jpg</td>\n      <td>720</td>\n      <td>1280</td>\n      <td>[1, 0, 0, 0, 0, 0]</td>\n      <td>[1, 0, 0, 1]</td>\n      <td>obstacles on the leftlane</td>\n      <td>[2, 7, 8, 12, 5, 1]</td>\n    </tr>\n    <tr>\n      <th>20</th>\n      <td>20</td>\n      <td>57e171f1-00d42305_1.jpg</td>\n      <td>720</td>\n      <td>1280</td>\n      <td>[1, 0, 0, 0, 1, 0]</td>\n      <td>[0, 1, 0, 0]</td>\n      <td>obstacles on the leftlane;no lane on the right</td>\n      <td>[2, 7, 8, 12, 5, 0, 6, 3, 8, 12, 9, 1]</td>\n    </tr>\n    <tr>\n      <th>24</th>\n      <td>24</td>\n      <td>7cc97a0b-203efcdd_1.jpg</td>\n      <td>720</td>\n      <td>1280</td>\n      <td>[1, 0, 0, 0, 0, 0]</td>\n      <td>[1, 0, 0, 1]</td>\n      <td>obstacles on the leftlane</td>\n      <td>[2, 7, 8, 12, 5, 1]</td>\n    </tr>\n    <tr>\n      <th>...</th>\n      <td>...</td>\n      <td>...</td>\n      <td>...</td>\n      <td>...</td>\n      <td>...</td>\n      <td>...</td>\n      <td>...</td>\n      <td>...</td>\n    </tr>\n    <tr>\n      <th>4504</th>\n      <td>4504</td>\n      <td>efae0c14-d7c484be.jpg</td>\n      <td>720</td>\n      <td>1280</td>\n      <td>[0, 0, 1, 1, 0, 1]</td>\n      <td>[0, 1, 0, 0]</td>\n      <td>solidline on the left;obstacles on the rightla...</td>\n      <td>[2, 11, 8, 12, 4, 0, 7, 8, 12, 10, 0, 11, 8, 1...</td>\n    </tr>\n    <tr>\n      <th>4505</th>\n      <td>4505</td>\n      <td>efc83579-e8863f07.jpg</td>\n      <td>720</td>\n      <td>1280</td>\n      <td>[0, 0, 0, 0, 1, 1]</td>\n      <td>[0, 1, 1, 0]</td>\n      <td>no lane on the right;solidline on the right</td>\n      <td>[2, 6, 3, 8, 12, 9, 0, 11, 8, 12, 9, 1]</td>\n    </tr>\n    <tr>\n      <th>4515</th>\n      <td>4515</td>\n      <td>f1cd3b02-b732250b.jpg</td>\n      <td>720</td>\n      <td>1280</td>\n      <td>[0, 0, 1, 0, 0, 1]</td>\n      <td>[1, 0, 0, 0]</td>\n      <td>solidline on the left;solidline on the right</td>\n      <td>[2, 11, 8, 12, 4, 0, 11, 8, 12, 9, 1]</td>\n    </tr>\n    <tr>\n      <th>4534</th>\n      <td>4534</td>\n      <td>f6565aa0-b60cedfa.jpg</td>\n      <td>720</td>\n      <td>1280</td>\n      <td>[0, 0, 1, 0, 1, 1]</td>\n      <td>[1, 0, 0, 0]</td>\n      <td>solidline on the left;no lane on the right;sol...</td>\n      <td>[2, 11, 8, 12, 4, 0, 6, 3, 8, 12, 9, 0, 11, 8,...</td>\n    </tr>\n    <tr>\n      <th>4561</th>\n      <td>4561</td>\n      <td>fcddae71-5b9a917d.jpg</td>\n      <td>720</td>\n      <td>1280</td>\n      <td>[1, 0, 0, 0, 0, 1]</td>\n      <td>[1, 0, 0, 0]</td>\n      <td>obstacles on the leftlane;solidline on the right</td>\n      <td>[2, 7, 8, 12, 5, 0, 11, 8, 12, 9, 1]</td>\n    </tr>\n  </tbody>\n</table>\n<p>24921 rows × 8 columns</p>\n</div>"
     },
     "metadata": {},
     "execution_count": 45
    }
   ],
   "source": [
    "no_dataset"
   ]
  },
  {
   "cell_type": "code",
   "execution_count": 51,
   "metadata": {},
   "outputs": [],
   "source": [
    "# Clean and save\n",
    "no_dataset = no_dataset[['file_name','reason','action','reason_lang','reason_lang_ind']]\n",
    "no_dataset.to_csv(label_home+'no_dataset.csv',index=False)"
   ]
  },
  {
   "cell_type": "code",
   "execution_count": 48,
   "metadata": {},
   "outputs": [
    {
     "output_type": "execute_result",
     "data": {
      "text/plain": [
       "33"
      ]
     },
     "metadata": {},
     "execution_count": 48
    }
   ],
   "source": [
    "len(no_dataset.iloc[59]['reason_lang_ind'])"
   ]
  },
  {
   "cell_type": "code",
   "execution_count": 81,
   "metadata": {},
   "outputs": [],
   "source": [
    "reason = np.array(list(no_dataset['reason']))"
   ]
  },
  {
   "cell_type": "code",
   "execution_count": 89,
   "metadata": {},
   "outputs": [
    {
     "output_type": "execute_result",
     "data": {
      "text/plain": [
       "(array([1, 2, 3, 4, 6]), array([ 6521, 15136,  2730,   528,     6]))"
      ]
     },
     "metadata": {},
     "execution_count": 89
    }
   ],
   "source": [
    "\n",
    "\n",
    "np.unique(reason.sum(axis=1),return_counts=True)"
   ]
  },
  {
   "cell_type": "code",
   "execution_count": 61,
   "metadata": {},
   "outputs": [
    {
     "output_type": "execute_result",
     "data": {
      "text/plain": [
       "array([ 8475,  7989,  7625, 11521,  6771,  4750])"
      ]
     },
     "metadata": {},
     "execution_count": 61
    }
   ],
   "source": [
    "reason.sum(axis=0)"
   ]
  },
  {
   "cell_type": "code",
   "execution_count": 62,
   "metadata": {},
   "outputs": [
    {
     "output_type": "execute_result",
     "data": {
      "text/plain": [
       "6"
      ]
     },
     "metadata": {},
     "execution_count": 62
    }
   ],
   "source": [
    "reason.sum(axis=1).max(axis=0)"
   ]
  },
  {
   "cell_type": "code",
   "execution_count": null,
   "metadata": {},
   "outputs": [],
   "source": []
  },
  {
   "cell_type": "code",
   "execution_count": 52,
   "metadata": {},
   "outputs": [],
   "source": [
    "from sklearn.model_selection import train_test_split"
   ]
  },
  {
   "cell_type": "code",
   "execution_count": 53,
   "metadata": {},
   "outputs": [],
   "source": [
    "train, test = train_test_split(no_dataset, test_size=0.2)\n"
   ]
  },
  {
   "cell_type": "code",
   "execution_count": 54,
   "metadata": {},
   "outputs": [],
   "source": [
    "train.to_csv(label_home+'no_train.csv',index=False)"
   ]
  },
  {
   "cell_type": "code",
   "execution_count": 55,
   "metadata": {},
   "outputs": [],
   "source": [
    "test.to_csv(label_home+'no_test.csv',index=False)"
   ]
  },
  {
   "cell_type": "code",
   "execution_count": null,
   "metadata": {},
   "outputs": [],
   "source": []
  },
  {
   "cell_type": "code",
   "execution_count": null,
   "metadata": {},
   "outputs": [],
   "source": []
  },
  {
   "cell_type": "code",
   "execution_count": 9,
   "metadata": {},
   "outputs": [],
   "source": [
    "different_reason_numbers = []\n",
    "for i in range(21):\n",
    "    different_reason_numbers.append(len(train_set[train_set.apply(f1,axis=1,reason_ind=i)]))"
   ]
  },
  {
   "cell_type": "code",
   "execution_count": 75,
   "metadata": {},
   "outputs": [
    {
     "data": {
      "text/plain": [
       "{'f_follow_traffic: Forward - follow traffic': 5470,\n",
       " 'f_road_clear: Forward - the road is clear': 2441,\n",
       " 'f_traffic_light: Forward - the traffic light is green': 3416,\n",
       " 's_ob_car: Stop/slow down - obstacle: car': 3760,\n",
       " 's_ob_ped: Stop/slow down - obstacle: person/pedestrain': 1090,\n",
       " 's_ob_rider: Stop/slow down - obstacle: rider': 171,\n",
       " 's_other: Stop/slow down - obstacle: others': 116,\n",
       " 's_traffic_light: Stop/slow down - the traffic light': 3695,\n",
       " 's_traffic_sign: Stop/slow down - the traffic sign': 329,\n",
       " 'l_front_car: Turn left - front car turning left': 100,\n",
       " 'l_lane: Turn left - on the left-turn lane': 463,\n",
       " 'l_traffic_light: Turn left - traffic light allows': 220,\n",
       " 'r_front_car: Turn right - front car turning right': 114,\n",
       " 'r_lane: Turn right - on the right-turn lane': 626,\n",
       " 'r_traffic_light: Turn right - traffic light allows': 270,\n",
       " \"no_l_car - Can't turn left - obstacles on the left lane\": 3182,\n",
       " \"no_l_lane - Can't turn left - no lane on the left\": 3175,\n",
       " \"no_l_solid_line - Can't turn left - solid line on the left\": 2586,\n",
       " \"no_r_car - Can't turn right - obstacles on the right lane\": 4297,\n",
       " \"no_r_lane - Can't turn right - no lane on the right\": 2792,\n",
       " \"no_r_solid_line - Can't turn right - solid line on the left\": 1563}"
      ]
     },
     "execution_count": 75,
     "metadata": {},
     "output_type": "execute_result"
    }
   ],
   "source": [
    "dict(zip(reason_map.keys(),different_reason_numbers))"
   ]
  },
  {
   "cell_type": "code",
   "execution_count": 76,
   "metadata": {},
   "outputs": [
    {
     "data": {
      "text/plain": [
       "([0, 1, 2, 3, 4, 5, 6, 7, 8, 9, 10, 11, 12, 13, 14, 15, 16, 17, 18, 19, 20],\n",
       " <a list of 21 Text xticklabel objects>)"
      ]
     },
     "execution_count": 76,
     "metadata": {},
     "output_type": "execute_result"
    },
    {
     "data": {
      "image/png": "[encoded data removed]",
      "text/plain": [
       "<Figure size 1440x720 with 1 Axes>"
      ]
     },
     "metadata": {
      "needs_background": "light"
     },
     "output_type": "display_data"
    }
   ],
   "source": [
    "reason_labels = [k.split(':')[0] for k in reason_map.keys()]\n",
    "\n",
    "plt.figure(figsize=(20,10))\n",
    "plt.bar(reason_labels,np.array(different_reason_numbers))\n",
    "plt.xticks(rotation=70)"
   ]
  },
  {
   "cell_type": "code",
   "execution_count": null,
   "metadata": {},
   "outputs": [],
   "source": []
  },
  {
   "cell_type": "code",
   "execution_count": 80,
   "metadata": {},
   "outputs": [],
   "source": [
    "different_action_numbers = []\n",
    "for i in range(4):\n",
    "    different_action_numbers.append(len(train_set[train_set.apply(f2,axis=1,action_ind=i)]))"
   ]
  },
  {
   "cell_type": "code",
   "execution_count": 81,
   "metadata": {},
   "outputs": [
    {
     "data": {
      "text/plain": [
       "{'move forward': 8748,\n",
       " 'stop/slow down': 7298,\n",
       " 'turn left': 4109,\n",
       " 'turn right': 4527}"
      ]
     },
     "execution_count": 81,
     "metadata": {},
     "output_type": "execute_result"
    }
   ],
   "source": [
    "dict(zip(action_map.keys(),different_action_numbers))"
   ]
  },
  {
   "cell_type": "code",
   "execution_count": 83,
   "metadata": {},
   "outputs": [
    {
     "data": {
      "text/plain": [
       "([0, 1, 2, 3], <a list of 4 Text xticklabel objects>)"
      ]
     },
     "execution_count": 83,
     "metadata": {},
     "output_type": "execute_result"
    },
    {
     "data": {
      "image/png": "[encoded data removed]",
      "text/plain": [
       "<Figure size 1440x720 with 1 Axes>"
      ]
     },
     "metadata": {
      "needs_background": "light"
     },
     "output_type": "display_data"
    }
   ],
   "source": [
    "plt.figure(figsize=(20,10))\n",
    "\n",
    "plt.bar(action_map.keys(),np.array(different_action_numbers))\n",
    "plt.xticks()"
   ]
  },
  {
   "cell_type": "code",
   "execution_count": null,
   "metadata": {},
   "outputs": [],
   "source": []
  }
 ],
 "metadata": {
  "kernelspec": {
   "display_name": "Python 3",
   "language": "python",
   "name": "python3"
  },
  "language_info": {
   "codemirror_mode": {
    "name": "ipython",
    "version": 3
   },
   "file_extension": ".py",
   "mimetype": "text/x-python",
   "name": "python",
   "nbconvert_exporter": "python",
   "pygments_lexer": "ipython3",
   "version": "3.7.8-final"
  }
 },
 "nbformat": 4,
 "nbformat_minor": 4
}