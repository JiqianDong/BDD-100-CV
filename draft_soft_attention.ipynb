{
 "metadata": {
  "language_info": {
   "codemirror_mode": {
    "name": "ipython",
    "version": 3
   },
   "file_extension": ".py",
   "mimetype": "text/x-python",
   "name": "python",
   "nbconvert_exporter": "python",
   "pygments_lexer": "ipython3",
   "version": "3.7.8-final"
  },
  "orig_nbformat": 2,
  "kernelspec": {
   "name": "python3",
   "display_name": "Python 3.7.8 64-bit ('.pyenv': pyenv)",
   "metadata": {
    "interpreter": {
     "hash": "956111efeedeaba7953169097271ad6d8d031d4d33aa995f09cc20c53b779055"
    }
   }
  }
 },
 "nbformat": 4,
 "nbformat_minor": 2,
 "cells": [
  {
   "cell_type": "code",
   "execution_count": 1,
   "metadata": {},
   "outputs": [],
   "source": [
    "from imports import *\n",
    "from datasets.bdd_oia import BDD_OIA"
   ]
  },
  {
   "cell_type": "code",
   "execution_count": 2,
   "metadata": {},
   "outputs": [],
   "source": [
    "image_home = './data/bdd_oia/lastframe/data/'\n",
    "label_home = './data/bdd_oia/lastframe/labels/'\n"
   ]
  },
  {
   "cell_type": "code",
   "execution_count": 3,
   "metadata": {},
   "outputs": [
    {
     "output_type": "execute_result",
     "data": {
      "text/plain": [
       "                     file_name              reason        action  \\\n",
       "7042   746a720a-dfe93574_3.jpg  [0, 1, 0, 0, 0, 0]  [1, 0, 0, 1]   \n",
       "14251    b1f62c41-ed0c6521.jpg  [0, 0, 0, 1, 0, 0]  [0, 1, 1, 0]   \n",
       "1988     ab36a641-4db29301.jpg  [0, 1, 1, 0, 0, 0]  [1, 0, 0, 1]   \n",
       "\n",
       "                                     reason_lang  \\\n",
       "7042                         no lane on the left   \n",
       "14251                 obstacles on the rightlane   \n",
       "1988   no lane on the left;solidline on the left   \n",
       "\n",
       "                               reason_lang_ind  \n",
       "7042                    [2, 6, 3, 8, 12, 4, 1]  \n",
       "14251                     [2, 7, 8, 12, 10, 1]  \n",
       "1988   [2, 6, 3, 8, 12, 4, 0, 11, 8, 12, 4, 1]  "
      ],
      "text/html": "<div>\n<style scoped>\n    .dataframe tbody tr th:only-of-type {\n        vertical-align: middle;\n    }\n\n    .dataframe tbody tr th {\n        vertical-align: top;\n    }\n\n    .dataframe thead th {\n        text-align: right;\n    }\n</style>\n<table border=\"1\" class=\"dataframe\">\n  <thead>\n    <tr style=\"text-align: right;\">\n      <th></th>\n      <th>file_name</th>\n      <th>reason</th>\n      <th>action</th>\n      <th>reason_lang</th>\n      <th>reason_lang_ind</th>\n    </tr>\n  </thead>\n  <tbody>\n    <tr>\n      <th>7042</th>\n      <td>746a720a-dfe93574_3.jpg</td>\n      <td>[0, 1, 0, 0, 0, 0]</td>\n      <td>[1, 0, 0, 1]</td>\n      <td>no lane on the left</td>\n      <td>[2, 6, 3, 8, 12, 4, 1]</td>\n    </tr>\n    <tr>\n      <th>14251</th>\n      <td>b1f62c41-ed0c6521.jpg</td>\n      <td>[0, 0, 0, 1, 0, 0]</td>\n      <td>[0, 1, 1, 0]</td>\n      <td>obstacles on the rightlane</td>\n      <td>[2, 7, 8, 12, 10, 1]</td>\n    </tr>\n    <tr>\n      <th>1988</th>\n      <td>ab36a641-4db29301.jpg</td>\n      <td>[0, 1, 1, 0, 0, 0]</td>\n      <td>[1, 0, 0, 1]</td>\n      <td>no lane on the left;solidline on the left</td>\n      <td>[2, 6, 3, 8, 12, 4, 0, 11, 8, 12, 4, 1]</td>\n    </tr>\n  </tbody>\n</table>\n</div>"
     },
     "metadata": {},
     "execution_count": 3
    }
   ],
   "source": [
    "# labels = pd.read_csv(label_home+'no_train.csv')\n",
    "labels = pd.read_pickle(label_home+'no_train.pkl')\n",
    "labels.head(3)"
   ]
  },
  {
   "cell_type": "code",
   "execution_count": 4,
   "metadata": {},
   "outputs": [],
   "source": [
    "test_img_name = labels.iloc[0]['file_name']\n",
    "test_img = Image.open(image_home+test_img_name)"
   ]
  },
  {
   "cell_type": "code",
   "execution_count": 5,
   "metadata": {},
   "outputs": [],
   "source": [
    "import torchvision.transforms as T\n",
    "mean=[102.9801, 115.9465, 122.7717]\n",
    "std=[1., 1., 1.]\n",
    "\n",
    "transform = T.Compose([T.ToTensor(),T.Normalize(mean,std)])"
   ]
  },
  {
   "cell_type": "code",
   "execution_count": 39,
   "metadata": {},
   "outputs": [
    {
     "output_type": "stream",
     "name": "stdout",
     "text": [
      "number of samples in dataset:19936\n"
     ]
    }
   ],
   "source": [
    "class BDD_OIA_NLP(Dataset):\n",
    "    def __init__(self, image_root, label_root, ind_to_word_root, image_min_size=120):\n",
    "        super().__init__()\n",
    "        import torchvision.transforms as T\n",
    "\n",
    "        self.image_root = image_root\n",
    "        self.mean=[102.9801, 115.9465, 122.7717]\n",
    "        self.std=[1., 1., 1.]\n",
    "\n",
    "        self._processing(label_root,ind_to_word_root)\n",
    "\n",
    "        self.transform = T.Compose([T.Resize(image_min_size),\n",
    "                                    T.ToTensor(),\n",
    "                                #    T.Normalize(self.mean,self.std),\n",
    "                                    ])\n",
    "\n",
    "    def _processing(self, label_root, ind_to_word_root):\n",
    "        data_df = pd.read_pickle(label_root)\n",
    "\n",
    "        self.count = len(data_df)\n",
    "        self.all_images = data_df['file_name']\n",
    "        self.all_reasons = data_df['reason_lang_ind']\n",
    "        self.all_actions = data_df['action']\n",
    "        print(\"number of samples in dataset:{}\".format(self.count))\n",
    "\n",
    "        with open(ind_to_word_root,'rb') as f:\n",
    "            self.ind_to_word = pickle.load(f)\n",
    "\n",
    "        self.num_words = len(self.ind_to_word.keys())\n",
    "\n",
    "    def __len__(self):\n",
    "        return self.count\n",
    "\n",
    "    def __getitem__(self, idx):\n",
    "        # test = True\n",
    "        target = {}\n",
    "        image_name = self.all_images.iloc[idx]\n",
    "\n",
    "        # print(type(self.all_actions[idx]))\n",
    "        target['action'] = torch.tensor(self.all_actions.iloc[idx][:4])\n",
    "        target['reason'] = torch.tensor(self.all_reasons.iloc[idx])\n",
    "\n",
    "        img_ = Image.open(self.image_root + image_name)\n",
    "\n",
    "        img = self.transform(img_)\n",
    "\n",
    "        return img,target\n",
    "\n",
    "image_dir = './data/bdd_oia/lastframe/data/'\n",
    "label_dir = './data/bdd_oia/lastframe/labels/'\n",
    "bdd_oia_dataset = BDD_OIA_NLP(image_dir, label_dir+'no_train.pkl', label_dir+'ind_to_word.pkl',image_min_size=180)\n",
    "\n",
    "training_loader = DataLoader(bdd_oia_dataset,\n",
    "                            shuffle=True,\n",
    "                            batch_size=10,\n",
    "                            num_workers=0,\n",
    "                            drop_last=True,\n",
    "                            collate_fn=utils.collate_fn)\n",
    "images_batch,labels_batch = next(iter(training_loader))"
   ]
  },
  {
   "cell_type": "code",
   "execution_count": 40,
   "metadata": {},
   "outputs": [
    {
     "output_type": "execute_result",
     "data": {
      "text/plain": [
       "torch.Size([10, 3, 180, 320])"
      ]
     },
     "metadata": {},
     "execution_count": 40
    }
   ],
   "source": [
    "torch.stack(images_batch).shape"
   ]
  },
  {
   "cell_type": "code",
   "execution_count": 41,
   "metadata": {},
   "outputs": [],
   "source": [
    "resnet = torchvision.models.resnet50(pretrained=True)\n",
    "\n",
    "mobilenet = torchvision.models.mobilenet_v2(pretrained=True)"
   ]
  },
  {
   "cell_type": "code",
   "execution_count": 42,
   "metadata": {},
   "outputs": [],
   "source": [
    "# resnet(torch.stack(images_batch)).shape"
   ]
  },
  {
   "cell_type": "code",
   "execution_count": 44,
   "metadata": {},
   "outputs": [
    {
     "output_type": "stream",
     "name": "stdout",
     "text": [
      "==========================================================================================\nLayer (type:depth-idx)                   Output Shape              Param #\n==========================================================================================\n├─Conv2d: 1-1                            [-1, 64, 90, 160]         9,408\n├─BatchNorm2d: 1-2                       [-1, 64, 90, 160]         128\n├─ReLU: 1-3                              [-1, 64, 90, 160]         --\n├─MaxPool2d: 1-4                         [-1, 64, 45, 80]          --\n├─Sequential: 1-5                        [-1, 256, 45, 80]         --\n|    └─Bottleneck: 2-1                   [-1, 256, 45, 80]         --\n|    |    └─Conv2d: 3-1                  [-1, 64, 45, 80]          4,096\n|    |    └─BatchNorm2d: 3-2             [-1, 64, 45, 80]          128\n|    |    └─ReLU: 3-3                    [-1, 64, 45, 80]          --\n|    |    └─Conv2d: 3-4                  [-1, 64, 45, 80]          36,864\n|    |    └─BatchNorm2d: 3-5             [-1, 64, 45, 80]          128\n|    |    └─ReLU: 3-6                    [-1, 64, 45, 80]          --\n|    |    └─Conv2d: 3-7                  [-1, 256, 45, 80]         16,384\n|    |    └─BatchNorm2d: 3-8             [-1, 256, 45, 80]         512\n|    |    └─Sequential: 3-9              [-1, 256, 45, 80]         16,896\n|    |    └─ReLU: 3-10                   [-1, 256, 45, 80]         --\n|    └─Bottleneck: 2-2                   [-1, 256, 45, 80]         --\n|    |    └─Conv2d: 3-11                 [-1, 64, 45, 80]          16,384\n|    |    └─BatchNorm2d: 3-12            [-1, 64, 45, 80]          128\n|    |    └─ReLU: 3-13                   [-1, 64, 45, 80]          --\n|    |    └─Conv2d: 3-14                 [-1, 64, 45, 80]          36,864\n|    |    └─BatchNorm2d: 3-15            [-1, 64, 45, 80]          128\n|    |    └─ReLU: 3-16                   [-1, 64, 45, 80]          --\n|    |    └─Conv2d: 3-17                 [-1, 256, 45, 80]         16,384\n|    |    └─BatchNorm2d: 3-18            [-1, 256, 45, 80]         512\n|    |    └─ReLU: 3-19                   [-1, 256, 45, 80]         --\n|    └─Bottleneck: 2-3                   [-1, 256, 45, 80]         --\n|    |    └─Conv2d: 3-20                 [-1, 64, 45, 80]          16,384\n|    |    └─BatchNorm2d: 3-21            [-1, 64, 45, 80]          128\n|    |    └─ReLU: 3-22                   [-1, 64, 45, 80]          --\n|    |    └─Conv2d: 3-23                 [-1, 64, 45, 80]          36,864\n|    |    └─BatchNorm2d: 3-24            [-1, 64, 45, 80]          128\n|    |    └─ReLU: 3-25                   [-1, 64, 45, 80]          --\n|    |    └─Conv2d: 3-26                 [-1, 256, 45, 80]         16,384\n|    |    └─BatchNorm2d: 3-27            [-1, 256, 45, 80]         512\n|    |    └─ReLU: 3-28                   [-1, 256, 45, 80]         --\n├─Sequential: 1-6                        [-1, 512, 23, 40]         --\n|    └─Bottleneck: 2-4                   [-1, 512, 23, 40]         --\n|    |    └─Conv2d: 3-29                 [-1, 128, 45, 80]         32,768\n|    |    └─BatchNorm2d: 3-30            [-1, 128, 45, 80]         256\n|    |    └─ReLU: 3-31                   [-1, 128, 45, 80]         --\n|    |    └─Conv2d: 3-32                 [-1, 128, 23, 40]         147,456\n|    |    └─BatchNorm2d: 3-33            [-1, 128, 23, 40]         256\n|    |    └─ReLU: 3-34                   [-1, 128, 23, 40]         --\n|    |    └─Conv2d: 3-35                 [-1, 512, 23, 40]         65,536\n|    |    └─BatchNorm2d: 3-36            [-1, 512, 23, 40]         1,024\n|    |    └─Sequential: 3-37             [-1, 512, 23, 40]         132,096\n|    |    └─ReLU: 3-38                   [-1, 512, 23, 40]         --\n|    └─Bottleneck: 2-5                   [-1, 512, 23, 40]         --\n|    |    └─Conv2d: 3-39                 [-1, 128, 23, 40]         65,536\n|    |    └─BatchNorm2d: 3-40            [-1, 128, 23, 40]         256\n|    |    └─ReLU: 3-41                   [-1, 128, 23, 40]         --\n|    |    └─Conv2d: 3-42                 [-1, 128, 23, 40]         147,456\n|    |    └─BatchNorm2d: 3-43            [-1, 128, 23, 40]         256\n|    |    └─ReLU: 3-44                   [-1, 128, 23, 40]         --\n|    |    └─Conv2d: 3-45                 [-1, 512, 23, 40]         65,536\n|    |    └─BatchNorm2d: 3-46            [-1, 512, 23, 40]         1,024\n|    |    └─ReLU: 3-47                   [-1, 512, 23, 40]         --\n|    └─Bottleneck: 2-6                   [-1, 512, 23, 40]         --\n|    |    └─Conv2d: 3-48                 [-1, 128, 23, 40]         65,536\n|    |    └─BatchNorm2d: 3-49            [-1, 128, 23, 40]         256\n|    |    └─ReLU: 3-50                   [-1, 128, 23, 40]         --\n|    |    └─Conv2d: 3-51                 [-1, 128, 23, 40]         147,456\n|    |    └─BatchNorm2d: 3-52            [-1, 128, 23, 40]         256\n|    |    └─ReLU: 3-53                   [-1, 128, 23, 40]         --\n|    |    └─Conv2d: 3-54                 [-1, 512, 23, 40]         65,536\n|    |    └─BatchNorm2d: 3-55            [-1, 512, 23, 40]         1,024\n|    |    └─ReLU: 3-56                   [-1, 512, 23, 40]         --\n|    └─Bottleneck: 2-7                   [-1, 512, 23, 40]         --\n|    |    └─Conv2d: 3-57                 [-1, 128, 23, 40]         65,536\n|    |    └─BatchNorm2d: 3-58            [-1, 128, 23, 40]         256\n|    |    └─ReLU: 3-59                   [-1, 128, 23, 40]         --\n|    |    └─Conv2d: 3-60                 [-1, 128, 23, 40]         147,456\n|    |    └─BatchNorm2d: 3-61            [-1, 128, 23, 40]         256\n|    |    └─ReLU: 3-62                   [-1, 128, 23, 40]         --\n|    |    └─Conv2d: 3-63                 [-1, 512, 23, 40]         65,536\n|    |    └─BatchNorm2d: 3-64            [-1, 512, 23, 40]         1,024\n|    |    └─ReLU: 3-65                   [-1, 512, 23, 40]         --\n├─Sequential: 1-7                        [-1, 1024, 12, 20]        --\n|    └─Bottleneck: 2-8                   [-1, 1024, 12, 20]        --\n|    |    └─Conv2d: 3-66                 [-1, 256, 23, 40]         131,072\n|    |    └─BatchNorm2d: 3-67            [-1, 256, 23, 40]         512\n|    |    └─ReLU: 3-68                   [-1, 256, 23, 40]         --\n|    |    └─Conv2d: 3-69                 [-1, 256, 12, 20]         589,824\n|    |    └─BatchNorm2d: 3-70            [-1, 256, 12, 20]         512\n|    |    └─ReLU: 3-71                   [-1, 256, 12, 20]         --\n|    |    └─Conv2d: 3-72                 [-1, 1024, 12, 20]        262,144\n|    |    └─BatchNorm2d: 3-73            [-1, 1024, 12, 20]        2,048\n|    |    └─Sequential: 3-74             [-1, 1024, 12, 20]        526,336\n|    |    └─ReLU: 3-75                   [-1, 1024, 12, 20]        --\n|    └─Bottleneck: 2-9                   [-1, 1024, 12, 20]        --\n|    |    └─Conv2d: 3-76                 [-1, 256, 12, 20]         262,144\n|    |    └─BatchNorm2d: 3-77            [-1, 256, 12, 20]         512\n|    |    └─ReLU: 3-78                   [-1, 256, 12, 20]         --\n|    |    └─Conv2d: 3-79                 [-1, 256, 12, 20]         589,824\n|    |    └─BatchNorm2d: 3-80            [-1, 256, 12, 20]         512\n|    |    └─ReLU: 3-81                   [-1, 256, 12, 20]         --\n|    |    └─Conv2d: 3-82                 [-1, 1024, 12, 20]        262,144\n|    |    └─BatchNorm2d: 3-83            [-1, 1024, 12, 20]        2,048\n|    |    └─ReLU: 3-84                   [-1, 1024, 12, 20]        --\n|    └─Bottleneck: 2-10                  [-1, 1024, 12, 20]        --\n|    |    └─Conv2d: 3-85                 [-1, 256, 12, 20]         262,144\n|    |    └─BatchNorm2d: 3-86            [-1, 256, 12, 20]         512\n|    |    └─ReLU: 3-87                   [-1, 256, 12, 20]         --\n|    |    └─Conv2d: 3-88                 [-1, 256, 12, 20]         589,824\n|    |    └─BatchNorm2d: 3-89            [-1, 256, 12, 20]         512\n|    |    └─ReLU: 3-90                   [-1, 256, 12, 20]         --\n|    |    └─Conv2d: 3-91                 [-1, 1024, 12, 20]        262,144\n|    |    └─BatchNorm2d: 3-92            [-1, 1024, 12, 20]        2,048\n|    |    └─ReLU: 3-93                   [-1, 1024, 12, 20]        --\n|    └─Bottleneck: 2-11                  [-1, 1024, 12, 20]        --\n|    |    └─Conv2d: 3-94                 [-1, 256, 12, 20]         262,144\n|    |    └─BatchNorm2d: 3-95            [-1, 256, 12, 20]         512\n|    |    └─ReLU: 3-96                   [-1, 256, 12, 20]         --\n|    |    └─Conv2d: 3-97                 [-1, 256, 12, 20]         589,824\n|    |    └─BatchNorm2d: 3-98            [-1, 256, 12, 20]         512\n|    |    └─ReLU: 3-99                   [-1, 256, 12, 20]         --\n|    |    └─Conv2d: 3-100                [-1, 1024, 12, 20]        262,144\n|    |    └─BatchNorm2d: 3-101           [-1, 1024, 12, 20]        2,048\n|    |    └─ReLU: 3-102                  [-1, 1024, 12, 20]        --\n|    └─Bottleneck: 2-12                  [-1, 1024, 12, 20]        --\n|    |    └─Conv2d: 3-103                [-1, 256, 12, 20]         262,144\n|    |    └─BatchNorm2d: 3-104           [-1, 256, 12, 20]         512\n|    |    └─ReLU: 3-105                  [-1, 256, 12, 20]         --\n|    |    └─Conv2d: 3-106                [-1, 256, 12, 20]         589,824\n|    |    └─BatchNorm2d: 3-107           [-1, 256, 12, 20]         512\n|    |    └─ReLU: 3-108                  [-1, 256, 12, 20]         --\n|    |    └─Conv2d: 3-109                [-1, 1024, 12, 20]        262,144\n|    |    └─BatchNorm2d: 3-110           [-1, 1024, 12, 20]        2,048\n|    |    └─ReLU: 3-111                  [-1, 1024, 12, 20]        --\n|    └─Bottleneck: 2-13                  [-1, 1024, 12, 20]        --\n|    |    └─Conv2d: 3-112                [-1, 256, 12, 20]         262,144\n|    |    └─BatchNorm2d: 3-113           [-1, 256, 12, 20]         512\n|    |    └─ReLU: 3-114                  [-1, 256, 12, 20]         --\n|    |    └─Conv2d: 3-115                [-1, 256, 12, 20]         589,824\n|    |    └─BatchNorm2d: 3-116           [-1, 256, 12, 20]         512\n|    |    └─ReLU: 3-117                  [-1, 256, 12, 20]         --\n|    |    └─Conv2d: 3-118                [-1, 1024, 12, 20]        262,144\n|    |    └─BatchNorm2d: 3-119           [-1, 1024, 12, 20]        2,048\n|    |    └─ReLU: 3-120                  [-1, 1024, 12, 20]        --\n├─Sequential: 1-8                        [-1, 2048, 6, 10]         --\n|    └─Bottleneck: 2-14                  [-1, 2048, 6, 10]         --\n|    |    └─Conv2d: 3-121                [-1, 512, 12, 20]         524,288\n|    |    └─BatchNorm2d: 3-122           [-1, 512, 12, 20]         1,024\n|    |    └─ReLU: 3-123                  [-1, 512, 12, 20]         --\n|    |    └─Conv2d: 3-124                [-1, 512, 6, 10]          2,359,296\n|    |    └─BatchNorm2d: 3-125           [-1, 512, 6, 10]          1,024\n|    |    └─ReLU: 3-126                  [-1, 512, 6, 10]          --\n|    |    └─Conv2d: 3-127                [-1, 2048, 6, 10]         1,048,576\n|    |    └─BatchNorm2d: 3-128           [-1, 2048, 6, 10]         4,096\n|    |    └─Sequential: 3-129            [-1, 2048, 6, 10]         2,101,248\n|    |    └─ReLU: 3-130                  [-1, 2048, 6, 10]         --\n|    └─Bottleneck: 2-15                  [-1, 2048, 6, 10]         --\n|    |    └─Conv2d: 3-131                [-1, 512, 6, 10]          1,048,576\n|    |    └─BatchNorm2d: 3-132           [-1, 512, 6, 10]          1,024\n|    |    └─ReLU: 3-133                  [-1, 512, 6, 10]          --\n|    |    └─Conv2d: 3-134                [-1, 512, 6, 10]          2,359,296\n|    |    └─BatchNorm2d: 3-135           [-1, 512, 6, 10]          1,024\n|    |    └─ReLU: 3-136                  [-1, 512, 6, 10]          --\n|    |    └─Conv2d: 3-137                [-1, 2048, 6, 10]         1,048,576\n|    |    └─BatchNorm2d: 3-138           [-1, 2048, 6, 10]         4,096\n|    |    └─ReLU: 3-139                  [-1, 2048, 6, 10]         --\n|    └─Bottleneck: 2-16                  [-1, 2048, 6, 10]         --\n|    |    └─Conv2d: 3-140                [-1, 512, 6, 10]          1,048,576\n|    |    └─BatchNorm2d: 3-141           [-1, 512, 6, 10]          1,024\n|    |    └─ReLU: 3-142                  [-1, 512, 6, 10]          --\n|    |    └─Conv2d: 3-143                [-1, 512, 6, 10]          2,359,296\n|    |    └─BatchNorm2d: 3-144           [-1, 512, 6, 10]          1,024\n|    |    └─ReLU: 3-145                  [-1, 512, 6, 10]          --\n|    |    └─Conv2d: 3-146                [-1, 2048, 6, 10]         1,048,576\n|    |    └─BatchNorm2d: 3-147           [-1, 2048, 6, 10]         4,096\n|    |    └─ReLU: 3-148                  [-1, 2048, 6, 10]         --\n├─AdaptiveAvgPool2d: 1-9                 [-1, 2048, 1, 1]          --\n├─Linear: 1-10                           [-1, 1000]                2,049,000\n==========================================================================================\nTotal params: 25,557,032\nTrainable params: 25,557,032\nNon-trainable params: 0\nTotal mult-adds (G): 4.94\n==========================================================================================\nInput size (MB): 0.66\nForward/backward pass size (MB): 198.84\nParams size (MB): 97.49\nEstimated Total Size (MB): 296.99\n==========================================================================================\n"
     ]
    },
    {
     "output_type": "execute_result",
     "data": {
      "text/plain": [
       "==========================================================================================\n",
       "Layer (type:depth-idx)                   Output Shape              Param #\n",
       "==========================================================================================\n",
       "├─Conv2d: 1-1                            [-1, 64, 90, 160]         9,408\n",
       "├─BatchNorm2d: 1-2                       [-1, 64, 90, 160]         128\n",
       "├─ReLU: 1-3                              [-1, 64, 90, 160]         --\n",
       "├─MaxPool2d: 1-4                         [-1, 64, 45, 80]          --\n",
       "├─Sequential: 1-5                        [-1, 256, 45, 80]         --\n",
       "|    └─Bottleneck: 2-1                   [-1, 256, 45, 80]         --\n",
       "|    |    └─Conv2d: 3-1                  [-1, 64, 45, 80]          4,096\n",
       "|    |    └─BatchNorm2d: 3-2             [-1, 64, 45, 80]          128\n",
       "|    |    └─ReLU: 3-3                    [-1, 64, 45, 80]          --\n",
       "|    |    └─Conv2d: 3-4                  [-1, 64, 45, 80]          36,864\n",
       "|    |    └─BatchNorm2d: 3-5             [-1, 64, 45, 80]          128\n",
       "|    |    └─ReLU: 3-6                    [-1, 64, 45, 80]          --\n",
       "|    |    └─Conv2d: 3-7                  [-1, 256, 45, 80]         16,384\n",
       "|    |    └─BatchNorm2d: 3-8             [-1, 256, 45, 80]         512\n",
       "|    |    └─Sequential: 3-9              [-1, 256, 45, 80]         16,896\n",
       "|    |    └─ReLU: 3-10                   [-1, 256, 45, 80]         --\n",
       "|    └─Bottleneck: 2-2                   [-1, 256, 45, 80]         --\n",
       "|    |    └─Conv2d: 3-11                 [-1, 64, 45, 80]          16,384\n",
       "|    |    └─BatchNorm2d: 3-12            [-1, 64, 45, 80]          128\n",
       "|    |    └─ReLU: 3-13                   [-1, 64, 45, 80]          --\n",
       "|    |    └─Conv2d: 3-14                 [-1, 64, 45, 80]          36,864\n",
       "|    |    └─BatchNorm2d: 3-15            [-1, 64, 45, 80]          128\n",
       "|    |    └─ReLU: 3-16                   [-1, 64, 45, 80]          --\n",
       "|    |    └─Conv2d: 3-17                 [-1, 256, 45, 80]         16,384\n",
       "|    |    └─BatchNorm2d: 3-18            [-1, 256, 45, 80]         512\n",
       "|    |    └─ReLU: 3-19                   [-1, 256, 45, 80]         --\n",
       "|    └─Bottleneck: 2-3                   [-1, 256, 45, 80]         --\n",
       "|    |    └─Conv2d: 3-20                 [-1, 64, 45, 80]          16,384\n",
       "|    |    └─BatchNorm2d: 3-21            [-1, 64, 45, 80]          128\n",
       "|    |    └─ReLU: 3-22                   [-1, 64, 45, 80]          --\n",
       "|    |    └─Conv2d: 3-23                 [-1, 64, 45, 80]          36,864\n",
       "|    |    └─BatchNorm2d: 3-24            [-1, 64, 45, 80]          128\n",
       "|    |    └─ReLU: 3-25                   [-1, 64, 45, 80]          --\n",
       "|    |    └─Conv2d: 3-26                 [-1, 256, 45, 80]         16,384\n",
       "|    |    └─BatchNorm2d: 3-27            [-1, 256, 45, 80]         512\n",
       "|    |    └─ReLU: 3-28                   [-1, 256, 45, 80]         --\n",
       "├─Sequential: 1-6                        [-1, 512, 23, 40]         --\n",
       "|    └─Bottleneck: 2-4                   [-1, 512, 23, 40]         --\n",
       "|    |    └─Conv2d: 3-29                 [-1, 128, 45, 80]         32,768\n",
       "|    |    └─BatchNorm2d: 3-30            [-1, 128, 45, 80]         256\n",
       "|    |    └─ReLU: 3-31                   [-1, 128, 45, 80]         --\n",
       "|    |    └─Conv2d: 3-32                 [-1, 128, 23, 40]         147,456\n",
       "|    |    └─BatchNorm2d: 3-33            [-1, 128, 23, 40]         256\n",
       "|    |    └─ReLU: 3-34                   [-1, 128, 23, 40]         --\n",
       "|    |    └─Conv2d: 3-35                 [-1, 512, 23, 40]         65,536\n",
       "|    |    └─BatchNorm2d: 3-36            [-1, 512, 23, 40]         1,024\n",
       "|    |    └─Sequential: 3-37             [-1, 512, 23, 40]         132,096\n",
       "|    |    └─ReLU: 3-38                   [-1, 512, 23, 40]         --\n",
       "|    └─Bottleneck: 2-5                   [-1, 512, 23, 40]         --\n",
       "|    |    └─Conv2d: 3-39                 [-1, 128, 23, 40]         65,536\n",
       "|    |    └─BatchNorm2d: 3-40            [-1, 128, 23, 40]         256\n",
       "|    |    └─ReLU: 3-41                   [-1, 128, 23, 40]         --\n",
       "|    |    └─Conv2d: 3-42                 [-1, 128, 23, 40]         147,456\n",
       "|    |    └─BatchNorm2d: 3-43            [-1, 128, 23, 40]         256\n",
       "|    |    └─ReLU: 3-44                   [-1, 128, 23, 40]         --\n",
       "|    |    └─Conv2d: 3-45                 [-1, 512, 23, 40]         65,536\n",
       "|    |    └─BatchNorm2d: 3-46            [-1, 512, 23, 40]         1,024\n",
       "|    |    └─ReLU: 3-47                   [-1, 512, 23, 40]         --\n",
       "|    └─Bottleneck: 2-6                   [-1, 512, 23, 40]         --\n",
       "|    |    └─Conv2d: 3-48                 [-1, 128, 23, 40]         65,536\n",
       "|    |    └─BatchNorm2d: 3-49            [-1, 128, 23, 40]         256\n",
       "|    |    └─ReLU: 3-50                   [-1, 128, 23, 40]         --\n",
       "|    |    └─Conv2d: 3-51                 [-1, 128, 23, 40]         147,456\n",
       "|    |    └─BatchNorm2d: 3-52            [-1, 128, 23, 40]         256\n",
       "|    |    └─ReLU: 3-53                   [-1, 128, 23, 40]         --\n",
       "|    |    └─Conv2d: 3-54                 [-1, 512, 23, 40]         65,536\n",
       "|    |    └─BatchNorm2d: 3-55            [-1, 512, 23, 40]         1,024\n",
       "|    |    └─ReLU: 3-56                   [-1, 512, 23, 40]         --\n",
       "|    └─Bottleneck: 2-7                   [-1, 512, 23, 40]         --\n",
       "|    |    └─Conv2d: 3-57                 [-1, 128, 23, 40]         65,536\n",
       "|    |    └─BatchNorm2d: 3-58            [-1, 128, 23, 40]         256\n",
       "|    |    └─ReLU: 3-59                   [-1, 128, 23, 40]         --\n",
       "|    |    └─Conv2d: 3-60                 [-1, 128, 23, 40]         147,456\n",
       "|    |    └─BatchNorm2d: 3-61            [-1, 128, 23, 40]         256\n",
       "|    |    └─ReLU: 3-62                   [-1, 128, 23, 40]         --\n",
       "|    |    └─Conv2d: 3-63                 [-1, 512, 23, 40]         65,536\n",
       "|    |    └─BatchNorm2d: 3-64            [-1, 512, 23, 40]         1,024\n",
       "|    |    └─ReLU: 3-65                   [-1, 512, 23, 40]         --\n",
       "├─Sequential: 1-7                        [-1, 1024, 12, 20]        --\n",
       "|    └─Bottleneck: 2-8                   [-1, 1024, 12, 20]        --\n",
       "|    |    └─Conv2d: 3-66                 [-1, 256, 23, 40]         131,072\n",
       "|    |    └─BatchNorm2d: 3-67            [-1, 256, 23, 40]         512\n",
       "|    |    └─ReLU: 3-68                   [-1, 256, 23, 40]         --\n",
       "|    |    └─Conv2d: 3-69                 [-1, 256, 12, 20]         589,824\n",
       "|    |    └─BatchNorm2d: 3-70            [-1, 256, 12, 20]         512\n",
       "|    |    └─ReLU: 3-71                   [-1, 256, 12, 20]         --\n",
       "|    |    └─Conv2d: 3-72                 [-1, 1024, 12, 20]        262,144\n",
       "|    |    └─BatchNorm2d: 3-73            [-1, 1024, 12, 20]        2,048\n",
       "|    |    └─Sequential: 3-74             [-1, 1024, 12, 20]        526,336\n",
       "|    |    └─ReLU: 3-75                   [-1, 1024, 12, 20]        --\n",
       "|    └─Bottleneck: 2-9                   [-1, 1024, 12, 20]        --\n",
       "|    |    └─Conv2d: 3-76                 [-1, 256, 12, 20]         262,144\n",
       "|    |    └─BatchNorm2d: 3-77            [-1, 256, 12, 20]         512\n",
       "|    |    └─ReLU: 3-78                   [-1, 256, 12, 20]         --\n",
       "|    |    └─Conv2d: 3-79                 [-1, 256, 12, 20]         589,824\n",
       "|    |    └─BatchNorm2d: 3-80            [-1, 256, 12, 20]         512\n",
       "|    |    └─ReLU: 3-81                   [-1, 256, 12, 20]         --\n",
       "|    |    └─Conv2d: 3-82                 [-1, 1024, 12, 20]        262,144\n",
       "|    |    └─BatchNorm2d: 3-83            [-1, 1024, 12, 20]        2,048\n",
       "|    |    └─ReLU: 3-84                   [-1, 1024, 12, 20]        --\n",
       "|    └─Bottleneck: 2-10                  [-1, 1024, 12, 20]        --\n",
       "|    |    └─Conv2d: 3-85                 [-1, 256, 12, 20]         262,144\n",
       "|    |    └─BatchNorm2d: 3-86            [-1, 256, 12, 20]         512\n",
       "|    |    └─ReLU: 3-87                   [-1, 256, 12, 20]         --\n",
       "|    |    └─Conv2d: 3-88                 [-1, 256, 12, 20]         589,824\n",
       "|    |    └─BatchNorm2d: 3-89            [-1, 256, 12, 20]         512\n",
       "|    |    └─ReLU: 3-90                   [-1, 256, 12, 20]         --\n",
       "|    |    └─Conv2d: 3-91                 [-1, 1024, 12, 20]        262,144\n",
       "|    |    └─BatchNorm2d: 3-92            [-1, 1024, 12, 20]        2,048\n",
       "|    |    └─ReLU: 3-93                   [-1, 1024, 12, 20]        --\n",
       "|    └─Bottleneck: 2-11                  [-1, 1024, 12, 20]        --\n",
       "|    |    └─Conv2d: 3-94                 [-1, 256, 12, 20]         262,144\n",
       "|    |    └─BatchNorm2d: 3-95            [-1, 256, 12, 20]         512\n",
       "|    |    └─ReLU: 3-96                   [-1, 256, 12, 20]         --\n",
       "|    |    └─Conv2d: 3-97                 [-1, 256, 12, 20]         589,824\n",
       "|    |    └─BatchNorm2d: 3-98            [-1, 256, 12, 20]         512\n",
       "|    |    └─ReLU: 3-99                   [-1, 256, 12, 20]         --\n",
       "|    |    └─Conv2d: 3-100                [-1, 1024, 12, 20]        262,144\n",
       "|    |    └─BatchNorm2d: 3-101           [-1, 1024, 12, 20]        2,048\n",
       "|    |    └─ReLU: 3-102                  [-1, 1024, 12, 20]        --\n",
       "|    └─Bottleneck: 2-12                  [-1, 1024, 12, 20]        --\n",
       "|    |    └─Conv2d: 3-103                [-1, 256, 12, 20]         262,144\n",
       "|    |    └─BatchNorm2d: 3-104           [-1, 256, 12, 20]         512\n",
       "|    |    └─ReLU: 3-105                  [-1, 256, 12, 20]         --\n",
       "|    |    └─Conv2d: 3-106                [-1, 256, 12, 20]         589,824\n",
       "|    |    └─BatchNorm2d: 3-107           [-1, 256, 12, 20]         512\n",
       "|    |    └─ReLU: 3-108                  [-1, 256, 12, 20]         --\n",
       "|    |    └─Conv2d: 3-109                [-1, 1024, 12, 20]        262,144\n",
       "|    |    └─BatchNorm2d: 3-110           [-1, 1024, 12, 20]        2,048\n",
       "|    |    └─ReLU: 3-111                  [-1, 1024, 12, 20]        --\n",
       "|    └─Bottleneck: 2-13                  [-1, 1024, 12, 20]        --\n",
       "|    |    └─Conv2d: 3-112                [-1, 256, 12, 20]         262,144\n",
       "|    |    └─BatchNorm2d: 3-113           [-1, 256, 12, 20]         512\n",
       "|    |    └─ReLU: 3-114                  [-1, 256, 12, 20]         --\n",
       "|    |    └─Conv2d: 3-115                [-1, 256, 12, 20]         589,824\n",
       "|    |    └─BatchNorm2d: 3-116           [-1, 256, 12, 20]         512\n",
       "|    |    └─ReLU: 3-117                  [-1, 256, 12, 20]         --\n",
       "|    |    └─Conv2d: 3-118                [-1, 1024, 12, 20]        262,144\n",
       "|    |    └─BatchNorm2d: 3-119           [-1, 1024, 12, 20]        2,048\n",
       "|    |    └─ReLU: 3-120                  [-1, 1024, 12, 20]        --\n",
       "├─Sequential: 1-8                        [-1, 2048, 6, 10]         --\n",
       "|    └─Bottleneck: 2-14                  [-1, 2048, 6, 10]         --\n",
       "|    |    └─Conv2d: 3-121                [-1, 512, 12, 20]         524,288\n",
       "|    |    └─BatchNorm2d: 3-122           [-1, 512, 12, 20]         1,024\n",
       "|    |    └─ReLU: 3-123                  [-1, 512, 12, 20]         --\n",
       "|    |    └─Conv2d: 3-124                [-1, 512, 6, 10]          2,359,296\n",
       "|    |    └─BatchNorm2d: 3-125           [-1, 512, 6, 10]          1,024\n",
       "|    |    └─ReLU: 3-126                  [-1, 512, 6, 10]          --\n",
       "|    |    └─Conv2d: 3-127                [-1, 2048, 6, 10]         1,048,576\n",
       "|    |    └─BatchNorm2d: 3-128           [-1, 2048, 6, 10]         4,096\n",
       "|    |    └─Sequential: 3-129            [-1, 2048, 6, 10]         2,101,248\n",
       "|    |    └─ReLU: 3-130                  [-1, 2048, 6, 10]         --\n",
       "|    └─Bottleneck: 2-15                  [-1, 2048, 6, 10]         --\n",
       "|    |    └─Conv2d: 3-131                [-1, 512, 6, 10]          1,048,576\n",
       "|    |    └─BatchNorm2d: 3-132           [-1, 512, 6, 10]          1,024\n",
       "|    |    └─ReLU: 3-133                  [-1, 512, 6, 10]          --\n",
       "|    |    └─Conv2d: 3-134                [-1, 512, 6, 10]          2,359,296\n",
       "|    |    └─BatchNorm2d: 3-135           [-1, 512, 6, 10]          1,024\n",
       "|    |    └─ReLU: 3-136                  [-1, 512, 6, 10]          --\n",
       "|    |    └─Conv2d: 3-137                [-1, 2048, 6, 10]         1,048,576\n",
       "|    |    └─BatchNorm2d: 3-138           [-1, 2048, 6, 10]         4,096\n",
       "|    |    └─ReLU: 3-139                  [-1, 2048, 6, 10]         --\n",
       "|    └─Bottleneck: 2-16                  [-1, 2048, 6, 10]         --\n",
       "|    |    └─Conv2d: 3-140                [-1, 512, 6, 10]          1,048,576\n",
       "|    |    └─BatchNorm2d: 3-141           [-1, 512, 6, 10]          1,024\n",
       "|    |    └─ReLU: 3-142                  [-1, 512, 6, 10]          --\n",
       "|    |    └─Conv2d: 3-143                [-1, 512, 6, 10]          2,359,296\n",
       "|    |    └─BatchNorm2d: 3-144           [-1, 512, 6, 10]          1,024\n",
       "|    |    └─ReLU: 3-145                  [-1, 512, 6, 10]          --\n",
       "|    |    └─Conv2d: 3-146                [-1, 2048, 6, 10]         1,048,576\n",
       "|    |    └─BatchNorm2d: 3-147           [-1, 2048, 6, 10]         4,096\n",
       "|    |    └─ReLU: 3-148                  [-1, 2048, 6, 10]         --\n",
       "├─AdaptiveAvgPool2d: 1-9                 [-1, 2048, 1, 1]          --\n",
       "├─Linear: 1-10                           [-1, 1000]                2,049,000\n",
       "==========================================================================================\n",
       "Total params: 25,557,032\n",
       "Trainable params: 25,557,032\n",
       "Non-trainable params: 0\n",
       "Total mult-adds (G): 4.94\n",
       "==========================================================================================\n",
       "Input size (MB): 0.66\n",
       "Forward/backward pass size (MB): 198.84\n",
       "Params size (MB): 97.49\n",
       "Estimated Total Size (MB): 296.99\n",
       "=========================================================================================="
      ]
     },
     "metadata": {},
     "execution_count": 44
    }
   ],
   "source": [
    "from torchsummary import summary\n",
    "\n",
    "summary(resnet,(3,180,320))"
   ]
  },
  {
   "cell_type": "code",
   "execution_count": 46,
   "metadata": {},
   "outputs": [
    {
     "output_type": "stream",
     "name": "stdout",
     "text": [
      "==========================================================================================\nLayer (type:depth-idx)                   Output Shape              Param #\n==========================================================================================\n├─Sequential: 1-1                        [-1, 1280, 6, 10]         --\n|    └─ConvBNReLU: 2-1                   [-1, 32, 90, 160]         --\n|    |    └─Conv2d: 3-1                  [-1, 32, 90, 160]         864\n|    |    └─BatchNorm2d: 3-2             [-1, 32, 90, 160]         64\n|    |    └─ReLU6: 3-3                   [-1, 32, 90, 160]         --\n|    └─InvertedResidual: 2-2             [-1, 16, 90, 160]         --\n|    |    └─Sequential: 3-4              [-1, 16, 90, 160]         896\n|    └─InvertedResidual: 2-3             [-1, 24, 45, 80]          --\n|    |    └─Sequential: 3-5              [-1, 24, 45, 80]          5,136\n|    └─InvertedResidual: 2-4             [-1, 24, 45, 80]          --\n|    |    └─Sequential: 3-6              [-1, 24, 45, 80]          8,832\n|    └─InvertedResidual: 2-5             [-1, 32, 23, 40]          --\n|    |    └─Sequential: 3-7              [-1, 32, 23, 40]          10,000\n|    └─InvertedResidual: 2-6             [-1, 32, 23, 40]          --\n|    |    └─Sequential: 3-8              [-1, 32, 23, 40]          14,848\n|    └─InvertedResidual: 2-7             [-1, 32, 23, 40]          --\n|    |    └─Sequential: 3-9              [-1, 32, 23, 40]          14,848\n|    └─InvertedResidual: 2-8             [-1, 64, 12, 20]          --\n|    |    └─Sequential: 3-10             [-1, 64, 12, 20]          21,056\n|    └─InvertedResidual: 2-9             [-1, 64, 12, 20]          --\n|    |    └─Sequential: 3-11             [-1, 64, 12, 20]          54,272\n|    └─InvertedResidual: 2-10            [-1, 64, 12, 20]          --\n|    |    └─Sequential: 3-12             [-1, 64, 12, 20]          54,272\n|    └─InvertedResidual: 2-11            [-1, 64, 12, 20]          --\n|    |    └─Sequential: 3-13             [-1, 64, 12, 20]          54,272\n|    └─InvertedResidual: 2-12            [-1, 96, 12, 20]          --\n|    |    └─Sequential: 3-14             [-1, 96, 12, 20]          66,624\n|    └─InvertedResidual: 2-13            [-1, 96, 12, 20]          --\n|    |    └─Sequential: 3-15             [-1, 96, 12, 20]          118,272\n|    └─InvertedResidual: 2-14            [-1, 96, 12, 20]          --\n|    |    └─Sequential: 3-16             [-1, 96, 12, 20]          118,272\n|    └─InvertedResidual: 2-15            [-1, 160, 6, 10]          --\n|    |    └─Sequential: 3-17             [-1, 160, 6, 10]          155,264\n|    └─InvertedResidual: 2-16            [-1, 160, 6, 10]          --\n|    |    └─Sequential: 3-18             [-1, 160, 6, 10]          320,000\n|    └─InvertedResidual: 2-17            [-1, 160, 6, 10]          --\n|    |    └─Sequential: 3-19             [-1, 160, 6, 10]          320,000\n|    └─InvertedResidual: 2-18            [-1, 320, 6, 10]          --\n|    |    └─Sequential: 3-20             [-1, 320, 6, 10]          473,920\n|    └─ConvBNReLU: 2-19                  [-1, 1280, 6, 10]         --\n|    |    └─Conv2d: 3-21                 [-1, 1280, 6, 10]         409,600\n|    |    └─BatchNorm2d: 3-22            [-1, 1280, 6, 10]         2,560\n|    |    └─ReLU6: 3-23                  [-1, 1280, 6, 10]         --\n├─Sequential: 1-2                        [-1, 1000]                --\n|    └─Dropout: 2-20                     [-1, 1280]                --\n|    └─Linear: 2-21                      [-1, 1000]                1,281,000\n==========================================================================================\nTotal params: 3,504,872\nTrainable params: 3,504,872\nNon-trainable params: 0\nTotal mult-adds (M): 188.70\n==========================================================================================\nInput size (MB): 0.66\nForward/backward pass size (MB): 18.44\nParams size (MB): 13.37\nEstimated Total Size (MB): 32.46\n==========================================================================================\n==========================================================================================\nLayer (type:depth-idx)                   Output Shape              Param #\n==========================================================================================\n├─Sequential: 1-1                        [-1, 1280, 6, 10]         --\n|    └─ConvBNReLU: 2-1                   [-1, 32, 90, 160]         --\n|    |    └─Conv2d: 3-1                  [-1, 32, 90, 160]         864\n|    |    └─BatchNorm2d: 3-2             [-1, 32, 90, 160]         64\n|    |    └─ReLU6: 3-3                   [-1, 32, 90, 160]         --\n|    └─InvertedResidual: 2-2             [-1, 16, 90, 160]         --\n|    |    └─Sequential: 3-4              [-1, 16, 90, 160]         896\n|    └─InvertedResidual: 2-3             [-1, 24, 45, 80]          --\n|    |    └─Sequential: 3-5              [-1, 24, 45, 80]          5,136\n|    └─InvertedResidual: 2-4             [-1, 24, 45, 80]          --\n|    |    └─Sequential: 3-6              [-1, 24, 45, 80]          8,832\n|    └─InvertedResidual: 2-5             [-1, 32, 23, 40]          --\n|    |    └─Sequential: 3-7              [-1, 32, 23, 40]          10,000\n|    └─InvertedResidual: 2-6             [-1, 32, 23, 40]          --\n|    |    └─Sequential: 3-8              [-1, 32, 23, 40]          14,848\n|    └─InvertedResidual: 2-7             [-1, 32, 23, 40]          --\n|    |    └─Sequential: 3-9              [-1, 32, 23, 40]          14,848\n|    └─InvertedResidual: 2-8             [-1, 64, 12, 20]          --\n|    |    └─Sequential: 3-10             [-1, 64, 12, 20]          21,056\n|    └─InvertedResidual: 2-9             [-1, 64, 12, 20]          --\n|    |    └─Sequential: 3-11             [-1, 64, 12, 20]          54,272\n|    └─InvertedResidual: 2-10            [-1, 64, 12, 20]          --\n|    |    └─Sequential: 3-12             [-1, 64, 12, 20]          54,272\n|    └─InvertedResidual: 2-11            [-1, 64, 12, 20]          --\n|    |    └─Sequential: 3-13             [-1, 64, 12, 20]          54,272\n|    └─InvertedResidual: 2-12            [-1, 96, 12, 20]          --\n|    |    └─Sequential: 3-14             [-1, 96, 12, 20]          66,624\n|    └─InvertedResidual: 2-13            [-1, 96, 12, 20]          --\n|    |    └─Sequential: 3-15             [-1, 96, 12, 20]          118,272\n|    └─InvertedResidual: 2-14            [-1, 96, 12, 20]          --\n|    |    └─Sequential: 3-16             [-1, 96, 12, 20]          118,272\n|    └─InvertedResidual: 2-15            [-1, 160, 6, 10]          --\n|    |    └─Sequential: 3-17             [-1, 160, 6, 10]          155,264\n|    └─InvertedResidual: 2-16            [-1, 160, 6, 10]          --\n|    |    └─Sequential: 3-18             [-1, 160, 6, 10]          320,000\n|    └─InvertedResidual: 2-17            [-1, 160, 6, 10]          --\n|    |    └─Sequential: 3-19             [-1, 160, 6, 10]          320,000\n|    └─InvertedResidual: 2-18            [-1, 320, 6, 10]          --\n|    |    └─Sequential: 3-20             [-1, 320, 6, 10]          473,920\n|    └─ConvBNReLU: 2-19                  [-1, 1280, 6, 10]         --\n|    |    └─Conv2d: 3-21                 [-1, 1280, 6, 10]         409,600\n|    |    └─BatchNorm2d: 3-22            [-1, 1280, 6, 10]         2,560\n|    |    └─ReLU6: 3-23                  [-1, 1280, 6, 10]         --\n├─Sequential: 1-2                        [-1, 1000]                --\n|    └─Dropout: 2-20                     [-1, 1280]                --\n|    └─Linear: 2-21                      [-1, 1000]                1,281,000\n==========================================================================================\nTotal params: 3,504,872\nTrainable params: 3,504,872\nNon-trainable params: 0\nTotal mult-adds (M): 188.70\n==========================================================================================\nInput size (MB): 0.66\nForward/backward pass size (MB): 18.44\nParams size (MB): 13.37\nEstimated Total Size (MB): 32.46\n==========================================================================================\n"
     ]
    }
   ],
   "source": [
    "print(summary(mobilenet,(3,180,320)))"
   ]
  },
  {
   "cell_type": "code",
   "execution_count": null,
   "metadata": {},
   "outputs": [],
   "source": []
  },
  {
   "cell_type": "code",
   "execution_count": 47,
   "metadata": {},
   "outputs": [],
   "source": [
    "feature_extractor = nn.Sequential(*list(mobilenet.children())[:-1])"
   ]
  },
  {
   "cell_type": "code",
   "execution_count": 49,
   "metadata": {},
   "outputs": [
    {
     "output_type": "stream",
     "name": "stdout",
     "text": [
      "==========================================================================================\nLayer (type:depth-idx)                   Output Shape              Param #\n==========================================================================================\n├─Sequential: 1-1                        [-1, 1280, 6, 10]         --\n|    └─ConvBNReLU: 2-1                   [-1, 32, 90, 160]         --\n|    |    └─Conv2d: 3-1                  [-1, 32, 90, 160]         864\n|    |    └─BatchNorm2d: 3-2             [-1, 32, 90, 160]         64\n|    |    └─ReLU6: 3-3                   [-1, 32, 90, 160]         --\n|    └─InvertedResidual: 2-2             [-1, 16, 90, 160]         --\n|    |    └─Sequential: 3-4              [-1, 16, 90, 160]         896\n|    └─InvertedResidual: 2-3             [-1, 24, 45, 80]          --\n|    |    └─Sequential: 3-5              [-1, 24, 45, 80]          5,136\n|    └─InvertedResidual: 2-4             [-1, 24, 45, 80]          --\n|    |    └─Sequential: 3-6              [-1, 24, 45, 80]          8,832\n|    └─InvertedResidual: 2-5             [-1, 32, 23, 40]          --\n|    |    └─Sequential: 3-7              [-1, 32, 23, 40]          10,000\n|    └─InvertedResidual: 2-6             [-1, 32, 23, 40]          --\n|    |    └─Sequential: 3-8              [-1, 32, 23, 40]          14,848\n|    └─InvertedResidual: 2-7             [-1, 32, 23, 40]          --\n|    |    └─Sequential: 3-9              [-1, 32, 23, 40]          14,848\n|    └─InvertedResidual: 2-8             [-1, 64, 12, 20]          --\n|    |    └─Sequential: 3-10             [-1, 64, 12, 20]          21,056\n|    └─InvertedResidual: 2-9             [-1, 64, 12, 20]          --\n|    |    └─Sequential: 3-11             [-1, 64, 12, 20]          54,272\n|    └─InvertedResidual: 2-10            [-1, 64, 12, 20]          --\n|    |    └─Sequential: 3-12             [-1, 64, 12, 20]          54,272\n|    └─InvertedResidual: 2-11            [-1, 64, 12, 20]          --\n|    |    └─Sequential: 3-13             [-1, 64, 12, 20]          54,272\n|    └─InvertedResidual: 2-12            [-1, 96, 12, 20]          --\n|    |    └─Sequential: 3-14             [-1, 96, 12, 20]          66,624\n|    └─InvertedResidual: 2-13            [-1, 96, 12, 20]          --\n|    |    └─Sequential: 3-15             [-1, 96, 12, 20]          118,272\n|    └─InvertedResidual: 2-14            [-1, 96, 12, 20]          --\n|    |    └─Sequential: 3-16             [-1, 96, 12, 20]          118,272\n|    └─InvertedResidual: 2-15            [-1, 160, 6, 10]          --\n|    |    └─Sequential: 3-17             [-1, 160, 6, 10]          155,264\n|    └─InvertedResidual: 2-16            [-1, 160, 6, 10]          --\n|    |    └─Sequential: 3-18             [-1, 160, 6, 10]          320,000\n|    └─InvertedResidual: 2-17            [-1, 160, 6, 10]          --\n|    |    └─Sequential: 3-19             [-1, 160, 6, 10]          320,000\n|    └─InvertedResidual: 2-18            [-1, 320, 6, 10]          --\n|    |    └─Sequential: 3-20             [-1, 320, 6, 10]          473,920\n|    └─ConvBNReLU: 2-19                  [-1, 1280, 6, 10]         --\n|    |    └─Conv2d: 3-21                 [-1, 1280, 6, 10]         409,600\n|    |    └─BatchNorm2d: 3-22            [-1, 1280, 6, 10]         2,560\n|    |    └─ReLU6: 3-23                  [-1, 1280, 6, 10]         --\n==========================================================================================\nTotal params: 2,223,872\nTrainable params: 2,223,872\nNon-trainable params: 0\nTotal mult-adds (M): 186.14\n==========================================================================================\nInput size (MB): 0.66\nForward/backward pass size (MB): 18.43\nParams size (MB): 8.48\nEstimated Total Size (MB): 27.57\n==========================================================================================\n"
     ]
    },
    {
     "output_type": "execute_result",
     "data": {
      "text/plain": [
       "==========================================================================================\n",
       "Layer (type:depth-idx)                   Output Shape              Param #\n",
       "==========================================================================================\n",
       "├─Sequential: 1-1                        [-1, 1280, 6, 10]         --\n",
       "|    └─ConvBNReLU: 2-1                   [-1, 32, 90, 160]         --\n",
       "|    |    └─Conv2d: 3-1                  [-1, 32, 90, 160]         864\n",
       "|    |    └─BatchNorm2d: 3-2             [-1, 32, 90, 160]         64\n",
       "|    |    └─ReLU6: 3-3                   [-1, 32, 90, 160]         --\n",
       "|    └─InvertedResidual: 2-2             [-1, 16, 90, 160]         --\n",
       "|    |    └─Sequential: 3-4              [-1, 16, 90, 160]         896\n",
       "|    └─InvertedResidual: 2-3             [-1, 24, 45, 80]          --\n",
       "|    |    └─Sequential: 3-5              [-1, 24, 45, 80]          5,136\n",
       "|    └─InvertedResidual: 2-4             [-1, 24, 45, 80]          --\n",
       "|    |    └─Sequential: 3-6              [-1, 24, 45, 80]          8,832\n",
       "|    └─InvertedResidual: 2-5             [-1, 32, 23, 40]          --\n",
       "|    |    └─Sequential: 3-7              [-1, 32, 23, 40]          10,000\n",
       "|    └─InvertedResidual: 2-6             [-1, 32, 23, 40]          --\n",
       "|    |    └─Sequential: 3-8              [-1, 32, 23, 40]          14,848\n",
       "|    └─InvertedResidual: 2-7             [-1, 32, 23, 40]          --\n",
       "|    |    └─Sequential: 3-9              [-1, 32, 23, 40]          14,848\n",
       "|    └─InvertedResidual: 2-8             [-1, 64, 12, 20]          --\n",
       "|    |    └─Sequential: 3-10             [-1, 64, 12, 20]          21,056\n",
       "|    └─InvertedResidual: 2-9             [-1, 64, 12, 20]          --\n",
       "|    |    └─Sequential: 3-11             [-1, 64, 12, 20]          54,272\n",
       "|    └─InvertedResidual: 2-10            [-1, 64, 12, 20]          --\n",
       "|    |    └─Sequential: 3-12             [-1, 64, 12, 20]          54,272\n",
       "|    └─InvertedResidual: 2-11            [-1, 64, 12, 20]          --\n",
       "|    |    └─Sequential: 3-13             [-1, 64, 12, 20]          54,272\n",
       "|    └─InvertedResidual: 2-12            [-1, 96, 12, 20]          --\n",
       "|    |    └─Sequential: 3-14             [-1, 96, 12, 20]          66,624\n",
       "|    └─InvertedResidual: 2-13            [-1, 96, 12, 20]          --\n",
       "|    |    └─Sequential: 3-15             [-1, 96, 12, 20]          118,272\n",
       "|    └─InvertedResidual: 2-14            [-1, 96, 12, 20]          --\n",
       "|    |    └─Sequential: 3-16             [-1, 96, 12, 20]          118,272\n",
       "|    └─InvertedResidual: 2-15            [-1, 160, 6, 10]          --\n",
       "|    |    └─Sequential: 3-17             [-1, 160, 6, 10]          155,264\n",
       "|    └─InvertedResidual: 2-16            [-1, 160, 6, 10]          --\n",
       "|    |    └─Sequential: 3-18             [-1, 160, 6, 10]          320,000\n",
       "|    └─InvertedResidual: 2-17            [-1, 160, 6, 10]          --\n",
       "|    |    └─Sequential: 3-19             [-1, 160, 6, 10]          320,000\n",
       "|    └─InvertedResidual: 2-18            [-1, 320, 6, 10]          --\n",
       "|    |    └─Sequential: 3-20             [-1, 320, 6, 10]          473,920\n",
       "|    └─ConvBNReLU: 2-19                  [-1, 1280, 6, 10]         --\n",
       "|    |    └─Conv2d: 3-21                 [-1, 1280, 6, 10]         409,600\n",
       "|    |    └─BatchNorm2d: 3-22            [-1, 1280, 6, 10]         2,560\n",
       "|    |    └─ReLU6: 3-23                  [-1, 1280, 6, 10]         --\n",
       "==========================================================================================\n",
       "Total params: 2,223,872\n",
       "Trainable params: 2,223,872\n",
       "Non-trainable params: 0\n",
       "Total mult-adds (M): 186.14\n",
       "==========================================================================================\n",
       "Input size (MB): 0.66\n",
       "Forward/backward pass size (MB): 18.43\n",
       "Params size (MB): 8.48\n",
       "Estimated Total Size (MB): 27.57\n",
       "=========================================================================================="
      ]
     },
     "metadata": {},
     "execution_count": 49
    }
   ],
   "source": [
    "summary(feature_extractor,(3,180,320))"
   ]
  },
  {
   "cell_type": "code",
   "execution_count": null,
   "metadata": {},
   "outputs": [],
   "source": []
  }
 ]
}