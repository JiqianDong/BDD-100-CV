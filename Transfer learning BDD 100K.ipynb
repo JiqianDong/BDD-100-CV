{
 "metadata": {
  "language_info": {
   "codemirror_mode": {
    "name": "ipython",
    "version": 3
   },
   "file_extension": ".py",
   "mimetype": "text/x-python",
   "name": "python",
   "nbconvert_exporter": "python",
   "pygments_lexer": "ipython3",
   "version": "3.7.8-final"
  },
  "orig_nbformat": 2,
  "kernelspec": {
   "name": "Python 3.7.8 64-bit",
   "display_name": "Python 3.7.8 64-bit",
   "metadata": {
    "interpreter": {
     "hash": "956111efeedeaba7953169097271ad6d8d031d4d33aa995f09cc20c53b779055"
    }
   }
  }
 },
 "nbformat": 4,
 "nbformat_minor": 2,
 "cells": [
  {
   "cell_type": "code",
   "execution_count": 1,
   "metadata": {},
   "outputs": [],
   "source": [
    "%load_ext autoreload\n",
    "%autoreload 2"
   ]
  },
  {
   "source": [
    "# Prepare dataset"
   ],
   "cell_type": "markdown",
   "metadata": {}
  },
  {
   "cell_type": "code",
   "execution_count": 2,
   "metadata": {},
   "outputs": [],
   "source": [
    "from dataloader_bdd_100k import BDD_loader"
   ]
  },
  {
   "cell_type": "code",
   "execution_count": 3,
   "metadata": {},
   "outputs": [],
   "source": [
    "from os import listdir"
   ]
  },
  {
   "cell_type": "code",
   "execution_count": 4,
   "metadata": {},
   "outputs": [
    {
     "output_type": "execute_result",
     "data": {
      "text/plain": [
       "(['train', 'val', 'test'],\n",
       " ['bdd100k_labels_images_train.json', 'bdd100k_labels_images_val.json'])"
      ]
     },
     "metadata": {},
     "execution_count": 4
    }
   ],
   "source": [
    "homedir = './datasets/bdd_100k/bdd100k/'\n",
    "\n",
    "label_dir = homedir + 'labels/'\n",
    "image_dir = homedir + 'images/100k/'\n",
    "listdir(image_dir),listdir(label_dir)\n"
   ]
  },
  {
   "cell_type": "code",
   "execution_count": 5,
   "metadata": {},
   "outputs": [],
   "source": [
    "import glob\n",
    "import pickle\n",
    "training_labels_path = glob.glob(label_dir + '*train.json')[0]\n",
    "validate_labels_path = glob.glob(label_dir + '*val.json')[0]\n",
    "\n",
    "\n",
    "with open(\"./datalists/bdd100k_train_images_path.txt\", \"rb\") as fp:\n",
    "    training_images_list = pickle.load(fp)\n",
    "with open(\"./datalists/bdd100k_val_images_path.txt\", \"rb\") as fp:\n",
    "    validate_images_list = pickle.load(fp)"
   ]
  },
  {
   "cell_type": "code",
   "execution_count": 6,
   "metadata": {},
   "outputs": [
    {
     "output_type": "stream",
     "name": "stderr",
     "text": [
      "100%|██████████| 69863/69863 [00:01<00:00, 37432.71it/s]\n"
     ]
    }
   ],
   "source": [
    "bdd_dataset_train = BDD_loader(training_images_list, training_labels_path, training=True)\n"
   ]
  },
  {
   "cell_type": "code",
   "execution_count": 7,
   "metadata": {},
   "outputs": [
    {
     "output_type": "stream",
     "name": "stderr",
     "text": [
      "100%|██████████| 10000/10000 [00:00<00:00, 38806.90it/s]\n"
     ]
    }
   ],
   "source": [
    "bdd_dataset_valid = BDD_loader(validate_images_list,validate_labels_path,training=False)"
   ]
  },
  {
   "source": [
    "## Data loaders"
   ],
   "cell_type": "markdown",
   "metadata": {}
  },
  {
   "cell_type": "code",
   "execution_count": 9,
   "metadata": {},
   "outputs": [],
   "source": [
    "from torch.utils.data import DataLoader\n",
    "from utils import collate_fn"
   ]
  },
  {
   "cell_type": "code",
   "execution_count": 15,
   "metadata": {},
   "outputs": [],
   "source": [
    "training_loader = DataLoader(\n",
    "                            bdd_dataset_train,\n",
    "                            batch_size=8,\n",
    "                            shuffle=True,\n",
    "                            num_workers=4,\n",
    "                            collate_fn=collate_fn)"
   ]
  },
  {
   "source": [
    "# Load model"
   ],
   "cell_type": "markdown",
   "metadata": {}
  },
  {
   "cell_type": "code",
   "execution_count": 16,
   "metadata": {},
   "outputs": [],
   "source": [
    "import torch\n",
    "import torchvision"
   ]
  },
  {
   "cell_type": "code",
   "execution_count": 19,
   "metadata": {},
   "outputs": [
    {
     "output_type": "stream",
     "name": "stdout",
     "text": [
      "{'bus': 0, 'traffic light': 1, 'traffic sign': 2, 'person': 3, 'bike': 4, 'truck': 5, 'motor': 6, 'car': 7, 'train': 8, 'rider': 9}\n10\n"
     ]
    }
   ],
   "source": [
    "from utils import label_dic\n",
    "print(label_dic)\n",
    "num_classes = len(label_dic)\n",
    "print(len(label_dic))"
   ]
  },
  {
   "cell_type": "code",
   "execution_count": 20,
   "metadata": {},
   "outputs": [],
   "source": [
    "def get_faster_rcnn_model(num_classes):\n",
    "    model = torchvision.models.detection.fasterrcnn_resnet50_fpn(pretrained=True)\n",
    "    in_features = model.roi_heads.box_predictor.cls_score.in_features\n",
    "    model.roi_heads.box_predictor = torchvision.models.detection.faster_rcnn.FastRCNNPredictor(\n",
    "        in_features, num_classes\n",
    "    )  # replace the pre-trained head with a new one\n",
    "    return model.cuda()\n",
    "\n",
    "faster_rcnn = get_faster_rcnn_model(num_classes)"
   ]
  },
  {
   "source": [
    "# Training faster rcnn"
   ],
   "cell_type": "markdown",
   "metadata": {}
  },
  {
   "cell_type": "code",
   "execution_count": 24,
   "metadata": {},
   "outputs": [
    {
     "output_type": "execute_result",
     "data": {
      "text/plain": [
       "{'bus': 0,\n",
       " 'traffic light': 1,\n",
       " 'traffic sign': 2,\n",
       " 'person': 3,\n",
       " 'bike': 4,\n",
       " 'truck': 5,\n",
       " 'motor': 6,\n",
       " 'car': 7,\n",
       " 'train': 8,\n",
       " 'rider': 9}"
      ]
     },
     "metadata": {},
     "execution_count": 24
    }
   ],
   "source": [
    "load_model = False\n",
    "model_name = 'fasterrcnn_bdd100k_10class_25epoch'\n",
    "\n",
    "if load_model:\n",
    "    checkpoint = torch.load(model_name + \".pth\")\n",
    "    model.load_state_dict(checkpoint[\"model_state_dict\"])\n",
    "    optimizer.load_state_dict(checkpoint[\"optimizer_state_dict\"])\n",
    "# epoch = checkpoint['epoch']"
   ]
  },
  {
   "cell_type": "code",
   "execution_count": null,
   "metadata": {},
   "outputs": [],
   "source": [
    "print(\"Training started\")\n",
    "\n",
    "num_epochs = 25\n",
    "\n",
    "for epoch in tqdm(range(num_epochs)):\n",
    "    train_one_epoch(model, optimizer, dl, device, epoch, print_freq=200)\n",
    "    lr_scheduler.step()\n",
    "\n",
    "    if epoch == 5 or epoch == 10 or epoch == 15 or epoch == 20 or epoch == 24:\n",
    "        save_name = \"saved_models/bdd100k_\" + str(epoch) + \".pth\"\n",
    "        torch.save(\n",
    "            {\"model\": model.state_dict(), \"optimizer\": optimizer.state_dict(),},\n",
    "            save_name,\n",
    "        )\n",
    "        print(\"Saved model\", save_name)"
   ]
  }
 ]
}